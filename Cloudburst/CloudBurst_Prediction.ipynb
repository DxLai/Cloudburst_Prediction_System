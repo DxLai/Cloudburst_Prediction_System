{
 "cells": [
  {
   "cell_type": "markdown",
   "id": "bf3d1085-2d57-4ff5-80dd-8a388fc631c2",
   "metadata": {},
   "source": [
    "# Cloudburst Prediction System"
   ]
  },
  {
   "cell_type": "code",
   "execution_count": null,
   "id": "1b7adadb-987f-4af7-b4fc-bf38b0ff65d9",
   "metadata": {},
   "outputs": [],
   "source": [
    "#team Members\n",
    "#Asad Baig (705)\n",
    "#Parishit Satibawane (725)\n",
    "#Prathamesh Pahune (731)\n",
    "#Shivam Kopare (745)"
   ]
  },
  {
   "cell_type": "code",
   "execution_count": 1,
   "id": "a17272d3",
   "metadata": {},
   "outputs": [],
   "source": [
    "import pandas as pd\n",
    "import numpy as np"
   ]
  },
  {
   "cell_type": "markdown",
   "id": "a146bd14",
   "metadata": {},
   "source": [
    "# # Importing the Cloudburst Data from csv file"
   ]
  },
  {
   "cell_type": "code",
   "execution_count": 2,
   "id": "28598138",
   "metadata": {},
   "outputs": [],
   "source": [
    "data = pd.read_csv('Dataset.csv')"
   ]
  },
  {
   "cell_type": "code",
   "execution_count": 3,
   "id": "cd729158",
   "metadata": {},
   "outputs": [
    {
     "data": {
      "text/html": [
       "<div>\n",
       "<style scoped>\n",
       "    .dataframe tbody tr th:only-of-type {\n",
       "        vertical-align: middle;\n",
       "    }\n",
       "\n",
       "    .dataframe tbody tr th {\n",
       "        vertical-align: top;\n",
       "    }\n",
       "\n",
       "    .dataframe thead th {\n",
       "        text-align: right;\n",
       "    }\n",
       "</style>\n",
       "<table border=\"1\" class=\"dataframe\">\n",
       "  <thead>\n",
       "    <tr style=\"text-align: right;\">\n",
       "      <th></th>\n",
       "      <th>Date</th>\n",
       "      <th>Location</th>\n",
       "      <th>MinimumTemperature</th>\n",
       "      <th>MaximumTemperature</th>\n",
       "      <th>Rainfall</th>\n",
       "      <th>Evaporation</th>\n",
       "      <th>Sunshine</th>\n",
       "      <th>WindGustDirection</th>\n",
       "      <th>WindGustSpeed</th>\n",
       "      <th>WindDirection9am</th>\n",
       "      <th>...</th>\n",
       "      <th>Humidity9am</th>\n",
       "      <th>Humidity3pm</th>\n",
       "      <th>Pressure9am</th>\n",
       "      <th>Pressure3pm</th>\n",
       "      <th>Cloud9am</th>\n",
       "      <th>Cloud3pm</th>\n",
       "      <th>Temperature9am</th>\n",
       "      <th>Temperature3pm</th>\n",
       "      <th>CloudBurst Today</th>\n",
       "      <th>CloudBurstTomorrow</th>\n",
       "    </tr>\n",
       "  </thead>\n",
       "  <tbody>\n",
       "    <tr>\n",
       "      <th>0</th>\n",
       "      <td>01-12-2008</td>\n",
       "      <td>Albury</td>\n",
       "      <td>13.4</td>\n",
       "      <td>22.9</td>\n",
       "      <td>0.6</td>\n",
       "      <td>NaN</td>\n",
       "      <td>NaN</td>\n",
       "      <td>W</td>\n",
       "      <td>44.0</td>\n",
       "      <td>W</td>\n",
       "      <td>...</td>\n",
       "      <td>71.0</td>\n",
       "      <td>22.0</td>\n",
       "      <td>1007.7</td>\n",
       "      <td>1007.1</td>\n",
       "      <td>8.0</td>\n",
       "      <td>NaN</td>\n",
       "      <td>16.9</td>\n",
       "      <td>21.8</td>\n",
       "      <td>No</td>\n",
       "      <td>No</td>\n",
       "    </tr>\n",
       "    <tr>\n",
       "      <th>1</th>\n",
       "      <td>02-12-2008</td>\n",
       "      <td>Albury</td>\n",
       "      <td>7.4</td>\n",
       "      <td>25.1</td>\n",
       "      <td>0.0</td>\n",
       "      <td>NaN</td>\n",
       "      <td>NaN</td>\n",
       "      <td>WNW</td>\n",
       "      <td>44.0</td>\n",
       "      <td>NNW</td>\n",
       "      <td>...</td>\n",
       "      <td>44.0</td>\n",
       "      <td>25.0</td>\n",
       "      <td>1010.6</td>\n",
       "      <td>1007.8</td>\n",
       "      <td>NaN</td>\n",
       "      <td>NaN</td>\n",
       "      <td>17.2</td>\n",
       "      <td>24.3</td>\n",
       "      <td>No</td>\n",
       "      <td>No</td>\n",
       "    </tr>\n",
       "    <tr>\n",
       "      <th>2</th>\n",
       "      <td>03-12-2008</td>\n",
       "      <td>Albury</td>\n",
       "      <td>12.9</td>\n",
       "      <td>25.7</td>\n",
       "      <td>0.0</td>\n",
       "      <td>NaN</td>\n",
       "      <td>NaN</td>\n",
       "      <td>WSW</td>\n",
       "      <td>46.0</td>\n",
       "      <td>W</td>\n",
       "      <td>...</td>\n",
       "      <td>38.0</td>\n",
       "      <td>30.0</td>\n",
       "      <td>1007.6</td>\n",
       "      <td>1008.7</td>\n",
       "      <td>NaN</td>\n",
       "      <td>2.0</td>\n",
       "      <td>21.0</td>\n",
       "      <td>23.2</td>\n",
       "      <td>No</td>\n",
       "      <td>No</td>\n",
       "    </tr>\n",
       "    <tr>\n",
       "      <th>3</th>\n",
       "      <td>04-12-2008</td>\n",
       "      <td>Albury</td>\n",
       "      <td>9.2</td>\n",
       "      <td>28.0</td>\n",
       "      <td>0.0</td>\n",
       "      <td>NaN</td>\n",
       "      <td>NaN</td>\n",
       "      <td>NE</td>\n",
       "      <td>24.0</td>\n",
       "      <td>SE</td>\n",
       "      <td>...</td>\n",
       "      <td>45.0</td>\n",
       "      <td>16.0</td>\n",
       "      <td>1017.6</td>\n",
       "      <td>1012.8</td>\n",
       "      <td>NaN</td>\n",
       "      <td>NaN</td>\n",
       "      <td>18.1</td>\n",
       "      <td>26.5</td>\n",
       "      <td>No</td>\n",
       "      <td>No</td>\n",
       "    </tr>\n",
       "    <tr>\n",
       "      <th>4</th>\n",
       "      <td>05-12-2008</td>\n",
       "      <td>Albury</td>\n",
       "      <td>17.5</td>\n",
       "      <td>32.3</td>\n",
       "      <td>1.0</td>\n",
       "      <td>NaN</td>\n",
       "      <td>NaN</td>\n",
       "      <td>W</td>\n",
       "      <td>41.0</td>\n",
       "      <td>ENE</td>\n",
       "      <td>...</td>\n",
       "      <td>82.0</td>\n",
       "      <td>33.0</td>\n",
       "      <td>1010.8</td>\n",
       "      <td>1006.0</td>\n",
       "      <td>7.0</td>\n",
       "      <td>8.0</td>\n",
       "      <td>17.8</td>\n",
       "      <td>29.7</td>\n",
       "      <td>No</td>\n",
       "      <td>No</td>\n",
       "    </tr>\n",
       "    <tr>\n",
       "      <th>...</th>\n",
       "      <td>...</td>\n",
       "      <td>...</td>\n",
       "      <td>...</td>\n",
       "      <td>...</td>\n",
       "      <td>...</td>\n",
       "      <td>...</td>\n",
       "      <td>...</td>\n",
       "      <td>...</td>\n",
       "      <td>...</td>\n",
       "      <td>...</td>\n",
       "      <td>...</td>\n",
       "      <td>...</td>\n",
       "      <td>...</td>\n",
       "      <td>...</td>\n",
       "      <td>...</td>\n",
       "      <td>...</td>\n",
       "      <td>...</td>\n",
       "      <td>...</td>\n",
       "      <td>...</td>\n",
       "      <td>...</td>\n",
       "      <td>...</td>\n",
       "    </tr>\n",
       "    <tr>\n",
       "      <th>145455</th>\n",
       "      <td>21-06-2017</td>\n",
       "      <td>Uluru</td>\n",
       "      <td>2.8</td>\n",
       "      <td>23.4</td>\n",
       "      <td>0.0</td>\n",
       "      <td>NaN</td>\n",
       "      <td>NaN</td>\n",
       "      <td>E</td>\n",
       "      <td>31.0</td>\n",
       "      <td>SE</td>\n",
       "      <td>...</td>\n",
       "      <td>51.0</td>\n",
       "      <td>24.0</td>\n",
       "      <td>1024.6</td>\n",
       "      <td>1020.3</td>\n",
       "      <td>NaN</td>\n",
       "      <td>NaN</td>\n",
       "      <td>10.1</td>\n",
       "      <td>22.4</td>\n",
       "      <td>No</td>\n",
       "      <td>No</td>\n",
       "    </tr>\n",
       "    <tr>\n",
       "      <th>145456</th>\n",
       "      <td>22-06-2017</td>\n",
       "      <td>Uluru</td>\n",
       "      <td>3.6</td>\n",
       "      <td>25.3</td>\n",
       "      <td>0.0</td>\n",
       "      <td>NaN</td>\n",
       "      <td>NaN</td>\n",
       "      <td>NNW</td>\n",
       "      <td>22.0</td>\n",
       "      <td>SE</td>\n",
       "      <td>...</td>\n",
       "      <td>56.0</td>\n",
       "      <td>21.0</td>\n",
       "      <td>1023.5</td>\n",
       "      <td>1019.1</td>\n",
       "      <td>NaN</td>\n",
       "      <td>NaN</td>\n",
       "      <td>10.9</td>\n",
       "      <td>24.5</td>\n",
       "      <td>No</td>\n",
       "      <td>No</td>\n",
       "    </tr>\n",
       "    <tr>\n",
       "      <th>145457</th>\n",
       "      <td>23-06-2017</td>\n",
       "      <td>Uluru</td>\n",
       "      <td>5.4</td>\n",
       "      <td>26.9</td>\n",
       "      <td>0.0</td>\n",
       "      <td>NaN</td>\n",
       "      <td>NaN</td>\n",
       "      <td>N</td>\n",
       "      <td>37.0</td>\n",
       "      <td>SE</td>\n",
       "      <td>...</td>\n",
       "      <td>53.0</td>\n",
       "      <td>24.0</td>\n",
       "      <td>1021.0</td>\n",
       "      <td>1016.8</td>\n",
       "      <td>NaN</td>\n",
       "      <td>NaN</td>\n",
       "      <td>12.5</td>\n",
       "      <td>26.1</td>\n",
       "      <td>No</td>\n",
       "      <td>No</td>\n",
       "    </tr>\n",
       "    <tr>\n",
       "      <th>145458</th>\n",
       "      <td>24-06-2017</td>\n",
       "      <td>Uluru</td>\n",
       "      <td>7.8</td>\n",
       "      <td>27.0</td>\n",
       "      <td>0.0</td>\n",
       "      <td>NaN</td>\n",
       "      <td>NaN</td>\n",
       "      <td>SE</td>\n",
       "      <td>28.0</td>\n",
       "      <td>SSE</td>\n",
       "      <td>...</td>\n",
       "      <td>51.0</td>\n",
       "      <td>24.0</td>\n",
       "      <td>1019.4</td>\n",
       "      <td>1016.5</td>\n",
       "      <td>3.0</td>\n",
       "      <td>2.0</td>\n",
       "      <td>15.1</td>\n",
       "      <td>26.0</td>\n",
       "      <td>No</td>\n",
       "      <td>No</td>\n",
       "    </tr>\n",
       "    <tr>\n",
       "      <th>145459</th>\n",
       "      <td>25-06-2017</td>\n",
       "      <td>Uluru</td>\n",
       "      <td>14.9</td>\n",
       "      <td>NaN</td>\n",
       "      <td>0.0</td>\n",
       "      <td>NaN</td>\n",
       "      <td>NaN</td>\n",
       "      <td>NaN</td>\n",
       "      <td>NaN</td>\n",
       "      <td>ESE</td>\n",
       "      <td>...</td>\n",
       "      <td>62.0</td>\n",
       "      <td>36.0</td>\n",
       "      <td>1020.2</td>\n",
       "      <td>1017.9</td>\n",
       "      <td>8.0</td>\n",
       "      <td>8.0</td>\n",
       "      <td>15.0</td>\n",
       "      <td>20.9</td>\n",
       "      <td>No</td>\n",
       "      <td>NaN</td>\n",
       "    </tr>\n",
       "  </tbody>\n",
       "</table>\n",
       "<p>145460 rows × 23 columns</p>\n",
       "</div>"
      ],
      "text/plain": [
       "              Date Location  MinimumTemperature  MaximumTemperature  Rainfall  \\\n",
       "0       01-12-2008   Albury                13.4                22.9       0.6   \n",
       "1       02-12-2008   Albury                 7.4                25.1       0.0   \n",
       "2       03-12-2008   Albury                12.9                25.7       0.0   \n",
       "3       04-12-2008   Albury                 9.2                28.0       0.0   \n",
       "4       05-12-2008   Albury                17.5                32.3       1.0   \n",
       "...            ...      ...                 ...                 ...       ...   \n",
       "145455  21-06-2017    Uluru                 2.8                23.4       0.0   \n",
       "145456  22-06-2017    Uluru                 3.6                25.3       0.0   \n",
       "145457  23-06-2017    Uluru                 5.4                26.9       0.0   \n",
       "145458  24-06-2017    Uluru                 7.8                27.0       0.0   \n",
       "145459  25-06-2017    Uluru                14.9                 NaN       0.0   \n",
       "\n",
       "        Evaporation  Sunshine WindGustDirection  WindGustSpeed  \\\n",
       "0               NaN       NaN                 W           44.0   \n",
       "1               NaN       NaN               WNW           44.0   \n",
       "2               NaN       NaN               WSW           46.0   \n",
       "3               NaN       NaN                NE           24.0   \n",
       "4               NaN       NaN                 W           41.0   \n",
       "...             ...       ...               ...            ...   \n",
       "145455          NaN       NaN                 E           31.0   \n",
       "145456          NaN       NaN               NNW           22.0   \n",
       "145457          NaN       NaN                 N           37.0   \n",
       "145458          NaN       NaN                SE           28.0   \n",
       "145459          NaN       NaN               NaN            NaN   \n",
       "\n",
       "       WindDirection9am  ... Humidity9am  Humidity3pm  Pressure9am  \\\n",
       "0                     W  ...        71.0         22.0       1007.7   \n",
       "1                   NNW  ...        44.0         25.0       1010.6   \n",
       "2                     W  ...        38.0         30.0       1007.6   \n",
       "3                    SE  ...        45.0         16.0       1017.6   \n",
       "4                   ENE  ...        82.0         33.0       1010.8   \n",
       "...                 ...  ...         ...          ...          ...   \n",
       "145455               SE  ...        51.0         24.0       1024.6   \n",
       "145456               SE  ...        56.0         21.0       1023.5   \n",
       "145457               SE  ...        53.0         24.0       1021.0   \n",
       "145458              SSE  ...        51.0         24.0       1019.4   \n",
       "145459              ESE  ...        62.0         36.0       1020.2   \n",
       "\n",
       "        Pressure3pm  Cloud9am  Cloud3pm  Temperature9am  Temperature3pm  \\\n",
       "0            1007.1       8.0       NaN            16.9            21.8   \n",
       "1            1007.8       NaN       NaN            17.2            24.3   \n",
       "2            1008.7       NaN       2.0            21.0            23.2   \n",
       "3            1012.8       NaN       NaN            18.1            26.5   \n",
       "4            1006.0       7.0       8.0            17.8            29.7   \n",
       "...             ...       ...       ...             ...             ...   \n",
       "145455       1020.3       NaN       NaN            10.1            22.4   \n",
       "145456       1019.1       NaN       NaN            10.9            24.5   \n",
       "145457       1016.8       NaN       NaN            12.5            26.1   \n",
       "145458       1016.5       3.0       2.0            15.1            26.0   \n",
       "145459       1017.9       8.0       8.0            15.0            20.9   \n",
       "\n",
       "        CloudBurst Today  CloudBurstTomorrow  \n",
       "0                     No                  No  \n",
       "1                     No                  No  \n",
       "2                     No                  No  \n",
       "3                     No                  No  \n",
       "4                     No                  No  \n",
       "...                  ...                 ...  \n",
       "145455                No                  No  \n",
       "145456                No                  No  \n",
       "145457                No                  No  \n",
       "145458                No                  No  \n",
       "145459                No                 NaN  \n",
       "\n",
       "[145460 rows x 23 columns]"
      ]
     },
     "execution_count": 3,
     "metadata": {},
     "output_type": "execute_result"
    }
   ],
   "source": [
    "data"
   ]
  },
  {
   "cell_type": "code",
   "execution_count": 4,
   "id": "a9ba0c6a",
   "metadata": {},
   "outputs": [
    {
     "name": "stdout",
     "output_type": "stream",
     "text": [
      "<class 'pandas.core.frame.DataFrame'>\n",
      "RangeIndex: 145460 entries, 0 to 145459\n",
      "Data columns (total 23 columns):\n",
      " #   Column              Non-Null Count   Dtype  \n",
      "---  ------              --------------   -----  \n",
      " 0   Date                145460 non-null  object \n",
      " 1   Location            145460 non-null  object \n",
      " 2   MinimumTemperature  143975 non-null  float64\n",
      " 3   MaximumTemperature  144199 non-null  float64\n",
      " 4   Rainfall            142199 non-null  float64\n",
      " 5   Evaporation         82670 non-null   float64\n",
      " 6   Sunshine            75625 non-null   float64\n",
      " 7   WindGustDirection   135134 non-null  object \n",
      " 8   WindGustSpeed       135197 non-null  float64\n",
      " 9   WindDirection9am    134894 non-null  object \n",
      " 10  WindDirection3pm    141232 non-null  object \n",
      " 11  WindSpeed9am        143693 non-null  float64\n",
      " 12  WindSpeed3pm        142398 non-null  float64\n",
      " 13  Humidity9am         142806 non-null  float64\n",
      " 14  Humidity3pm         140953 non-null  float64\n",
      " 15  Pressure9am         130395 non-null  float64\n",
      " 16  Pressure3pm         130432 non-null  float64\n",
      " 17  Cloud9am            89572 non-null   float64\n",
      " 18  Cloud3pm            86102 non-null   float64\n",
      " 19  Temperature9am      143693 non-null  float64\n",
      " 20  Temperature3pm      141851 non-null  float64\n",
      " 21  CloudBurst Today    142199 non-null  object \n",
      " 22  CloudBurstTomorrow  142193 non-null  object \n",
      "dtypes: float64(16), object(7)\n",
      "memory usage: 25.5+ MB\n"
     ]
    }
   ],
   "source": [
    "data.info()"
   ]
  },
  {
   "cell_type": "code",
   "execution_count": 5,
   "id": "99e99122",
   "metadata": {},
   "outputs": [
    {
     "data": {
      "text/plain": [
       "Date                      0\n",
       "Location                  0\n",
       "MinimumTemperature     1485\n",
       "MaximumTemperature     1261\n",
       "Rainfall               3261\n",
       "Evaporation           62790\n",
       "Sunshine              69835\n",
       "WindGustDirection     10326\n",
       "WindGustSpeed         10263\n",
       "WindDirection9am      10566\n",
       "WindDirection3pm       4228\n",
       "WindSpeed9am           1767\n",
       "WindSpeed3pm           3062\n",
       "Humidity9am            2654\n",
       "Humidity3pm            4507\n",
       "Pressure9am           15065\n",
       "Pressure3pm           15028\n",
       "Cloud9am              55888\n",
       "Cloud3pm              59358\n",
       "Temperature9am         1767\n",
       "Temperature3pm         3609\n",
       "CloudBurst Today       3261\n",
       "CloudBurstTomorrow     3267\n",
       "dtype: int64"
      ]
     },
     "execution_count": 5,
     "metadata": {},
     "output_type": "execute_result"
    }
   ],
   "source": [
    "data.isnull().sum()"
   ]
  },
  {
   "cell_type": "markdown",
   "id": "75c08fcf",
   "metadata": {},
   "source": [
    "# Data Pre-processing"
   ]
  },
  {
   "cell_type": "markdown",
   "id": "8eff269a",
   "metadata": {},
   "source": [
    "#### Removing Less affecting attributes\n",
    "#### Handling Missing Values"
   ]
  },
  {
   "cell_type": "markdown",
   "id": "a8839a9f",
   "metadata": {},
   "source": [
    "## Removing Object and Unwanted Columns"
   ]
  },
  {
   "cell_type": "code",
   "execution_count": 6,
   "id": "c794a065",
   "metadata": {},
   "outputs": [],
   "source": [
    "data1 = pd.DataFrame()"
   ]
  },
  {
   "cell_type": "code",
   "execution_count": 7,
   "id": "8f74a320",
   "metadata": {},
   "outputs": [],
   "source": [
    "data1 = data.drop(['CloudBurstTomorrow', 'CloudBurst Today', 'WindDirection3pm', 'WindDirection9am', 'Location', 'WindGustDirection', 'Date'], axis = 1)"
   ]
  },
  {
   "cell_type": "markdown",
   "id": "590c9e14",
   "metadata": {},
   "source": [
    "## Converting the object values into numerical values to find the correlation"
   ]
  },
  {
   "cell_type": "code",
   "execution_count": 8,
   "id": "5470d650",
   "metadata": {},
   "outputs": [],
   "source": [
    "from sklearn import preprocessing\n",
    "le = preprocessing.LabelEncoder()"
   ]
  },
  {
   "cell_type": "code",
   "execution_count": 12,
   "id": "95aeef1d",
   "metadata": {},
   "outputs": [],
   "source": [
    "data1['CloudBurst Today'] = le.fit_transform(data['CloudBurst Today'])\n",
    "CBT_map = dict(zip(le.classes_, le.transform(le.classes_)))\n",
    "data1['CloudBurstTomorrow'] = le.fit_transform(data['CloudBurstTomorrow'])\n",
    "CBTM_map = dict(zip(le.classes_, le.transform(le.classes_)))"
   ]
  },
  {
   "cell_type": "code",
   "execution_count": 13,
   "id": "1286ec3d-4698-4add-88d5-feb0acb9d524",
   "metadata": {},
   "outputs": [
    {
     "data": {
      "text/plain": [
       "{'No': 0, 'Yes': 1, nan: 2}"
      ]
     },
     "execution_count": 13,
     "metadata": {},
     "output_type": "execute_result"
    }
   ],
   "source": [
    "CBT_map"
   ]
  },
  {
   "cell_type": "code",
   "execution_count": 14,
   "id": "add9b646-7331-4033-82d1-a4f5d08c753e",
   "metadata": {},
   "outputs": [
    {
     "data": {
      "text/plain": [
       "{'No': 0, 'Yes': 1, nan: 2}"
      ]
     },
     "execution_count": 14,
     "metadata": {},
     "output_type": "execute_result"
    }
   ],
   "source": [
    "CBTM_map"
   ]
  },
  {
   "cell_type": "markdown",
   "id": "6c88fe09",
   "metadata": {},
   "source": [
    "## Calculating null values in each column"
   ]
  },
  {
   "cell_type": "code",
   "execution_count": 15,
   "id": "b2522015",
   "metadata": {},
   "outputs": [
    {
     "data": {
      "text/plain": [
       "MinimumTemperature     1485\n",
       "MaximumTemperature     1261\n",
       "Rainfall               3261\n",
       "Evaporation           62790\n",
       "Sunshine              69835\n",
       "WindGustSpeed         10263\n",
       "WindSpeed9am           1767\n",
       "WindSpeed3pm           3062\n",
       "Humidity9am            2654\n",
       "Humidity3pm            4507\n",
       "Pressure9am           15065\n",
       "Pressure3pm           15028\n",
       "Cloud9am              55888\n",
       "Cloud3pm              59358\n",
       "Temperature9am         1767\n",
       "Temperature3pm         3609\n",
       "CloudBurst Today          0\n",
       "CloudBurstTomorrow        0\n",
       "dtype: int64"
      ]
     },
     "execution_count": 15,
     "metadata": {},
     "output_type": "execute_result"
    }
   ],
   "source": [
    "data1.isnull().sum()"
   ]
  },
  {
   "cell_type": "code",
   "execution_count": 16,
   "id": "b3e73735",
   "metadata": {},
   "outputs": [
    {
     "name": "stdout",
     "output_type": "stream",
     "text": [
      "<class 'pandas.core.frame.DataFrame'>\n",
      "RangeIndex: 145460 entries, 0 to 145459\n",
      "Data columns (total 18 columns):\n",
      " #   Column              Non-Null Count   Dtype  \n",
      "---  ------              --------------   -----  \n",
      " 0   MinimumTemperature  143975 non-null  float64\n",
      " 1   MaximumTemperature  144199 non-null  float64\n",
      " 2   Rainfall            142199 non-null  float64\n",
      " 3   Evaporation         82670 non-null   float64\n",
      " 4   Sunshine            75625 non-null   float64\n",
      " 5   WindGustSpeed       135197 non-null  float64\n",
      " 6   WindSpeed9am        143693 non-null  float64\n",
      " 7   WindSpeed3pm        142398 non-null  float64\n",
      " 8   Humidity9am         142806 non-null  float64\n",
      " 9   Humidity3pm         140953 non-null  float64\n",
      " 10  Pressure9am         130395 non-null  float64\n",
      " 11  Pressure3pm         130432 non-null  float64\n",
      " 12  Cloud9am            89572 non-null   float64\n",
      " 13  Cloud3pm            86102 non-null   float64\n",
      " 14  Temperature9am      143693 non-null  float64\n",
      " 15  Temperature3pm      141851 non-null  float64\n",
      " 16  CloudBurst Today    145460 non-null  int32  \n",
      " 17  CloudBurstTomorrow  145460 non-null  int32  \n",
      "dtypes: float64(16), int32(2)\n",
      "memory usage: 18.9 MB\n"
     ]
    }
   ],
   "source": [
    "data1.info()"
   ]
  },
  {
   "cell_type": "markdown",
   "id": "e7b55145",
   "metadata": {},
   "source": [
    "## Finding the correlation between attributes"
   ]
  },
  {
   "cell_type": "code",
   "execution_count": 17,
   "id": "81e6b56b",
   "metadata": {},
   "outputs": [
    {
     "data": {
      "text/html": [
       "<div>\n",
       "<style scoped>\n",
       "    .dataframe tbody tr th:only-of-type {\n",
       "        vertical-align: middle;\n",
       "    }\n",
       "\n",
       "    .dataframe tbody tr th {\n",
       "        vertical-align: top;\n",
       "    }\n",
       "\n",
       "    .dataframe thead th {\n",
       "        text-align: right;\n",
       "    }\n",
       "</style>\n",
       "<table border=\"1\" class=\"dataframe\">\n",
       "  <thead>\n",
       "    <tr style=\"text-align: right;\">\n",
       "      <th></th>\n",
       "      <th>MinimumTemperature</th>\n",
       "      <th>MaximumTemperature</th>\n",
       "      <th>Rainfall</th>\n",
       "      <th>Evaporation</th>\n",
       "      <th>Sunshine</th>\n",
       "      <th>WindGustSpeed</th>\n",
       "      <th>WindSpeed9am</th>\n",
       "      <th>WindSpeed3pm</th>\n",
       "      <th>Humidity9am</th>\n",
       "      <th>Humidity3pm</th>\n",
       "      <th>Pressure9am</th>\n",
       "      <th>Pressure3pm</th>\n",
       "      <th>Cloud9am</th>\n",
       "      <th>Cloud3pm</th>\n",
       "      <th>Temperature9am</th>\n",
       "      <th>Temperature3pm</th>\n",
       "      <th>CloudBurst Today</th>\n",
       "      <th>CloudBurstTomorrow</th>\n",
       "    </tr>\n",
       "  </thead>\n",
       "  <tbody>\n",
       "    <tr>\n",
       "      <th>MinimumTemperature</th>\n",
       "      <td>1.000000</td>\n",
       "      <td>0.736555</td>\n",
       "      <td>0.103938</td>\n",
       "      <td>0.466993</td>\n",
       "      <td>0.072586</td>\n",
       "      <td>0.177415</td>\n",
       "      <td>0.175064</td>\n",
       "      <td>0.175173</td>\n",
       "      <td>-0.232899</td>\n",
       "      <td>0.006089</td>\n",
       "      <td>-0.450970</td>\n",
       "      <td>-0.461292</td>\n",
       "      <td>0.078754</td>\n",
       "      <td>0.021605</td>\n",
       "      <td>0.901821</td>\n",
       "      <td>0.708906</td>\n",
       "      <td>0.053249</td>\n",
       "      <td>0.077324</td>\n",
       "    </tr>\n",
       "    <tr>\n",
       "      <th>MaximumTemperature</th>\n",
       "      <td>0.736555</td>\n",
       "      <td>1.000000</td>\n",
       "      <td>-0.074992</td>\n",
       "      <td>0.587932</td>\n",
       "      <td>0.470156</td>\n",
       "      <td>0.067615</td>\n",
       "      <td>0.014450</td>\n",
       "      <td>0.050300</td>\n",
       "      <td>-0.504110</td>\n",
       "      <td>-0.508855</td>\n",
       "      <td>-0.332061</td>\n",
       "      <td>-0.427167</td>\n",
       "      <td>-0.289370</td>\n",
       "      <td>-0.277921</td>\n",
       "      <td>0.887210</td>\n",
       "      <td>0.984503</td>\n",
       "      <td>-0.202647</td>\n",
       "      <td>-0.141733</td>\n",
       "    </tr>\n",
       "    <tr>\n",
       "      <th>Rainfall</th>\n",
       "      <td>0.103938</td>\n",
       "      <td>-0.074992</td>\n",
       "      <td>1.000000</td>\n",
       "      <td>-0.064351</td>\n",
       "      <td>-0.227549</td>\n",
       "      <td>0.133659</td>\n",
       "      <td>0.087338</td>\n",
       "      <td>0.057887</td>\n",
       "      <td>0.224405</td>\n",
       "      <td>0.255755</td>\n",
       "      <td>-0.168154</td>\n",
       "      <td>-0.126534</td>\n",
       "      <td>0.198528</td>\n",
       "      <td>0.172403</td>\n",
       "      <td>0.011192</td>\n",
       "      <td>-0.079657</td>\n",
       "      <td>0.501516</td>\n",
       "      <td>0.223487</td>\n",
       "    </tr>\n",
       "    <tr>\n",
       "      <th>Evaporation</th>\n",
       "      <td>0.466993</td>\n",
       "      <td>0.587932</td>\n",
       "      <td>-0.064351</td>\n",
       "      <td>1.000000</td>\n",
       "      <td>0.365602</td>\n",
       "      <td>0.203021</td>\n",
       "      <td>0.193084</td>\n",
       "      <td>0.129400</td>\n",
       "      <td>-0.504092</td>\n",
       "      <td>-0.390243</td>\n",
       "      <td>-0.270362</td>\n",
       "      <td>-0.293581</td>\n",
       "      <td>-0.183793</td>\n",
       "      <td>-0.182618</td>\n",
       "      <td>0.545115</td>\n",
       "      <td>0.572893</td>\n",
       "      <td>-0.173909</td>\n",
       "      <td>-0.105260</td>\n",
       "    </tr>\n",
       "    <tr>\n",
       "      <th>Sunshine</th>\n",
       "      <td>0.072586</td>\n",
       "      <td>0.470156</td>\n",
       "      <td>-0.227549</td>\n",
       "      <td>0.365602</td>\n",
       "      <td>1.000000</td>\n",
       "      <td>-0.034750</td>\n",
       "      <td>0.005499</td>\n",
       "      <td>0.053834</td>\n",
       "      <td>-0.490819</td>\n",
       "      <td>-0.629130</td>\n",
       "      <td>0.041970</td>\n",
       "      <td>-0.019719</td>\n",
       "      <td>-0.675323</td>\n",
       "      <td>-0.703930</td>\n",
       "      <td>0.291188</td>\n",
       "      <td>0.490501</td>\n",
       "      <td>-0.301930</td>\n",
       "      <td>-0.405503</td>\n",
       "    </tr>\n",
       "    <tr>\n",
       "      <th>WindGustSpeed</th>\n",
       "      <td>0.177415</td>\n",
       "      <td>0.067615</td>\n",
       "      <td>0.133659</td>\n",
       "      <td>0.203021</td>\n",
       "      <td>-0.034750</td>\n",
       "      <td>1.000000</td>\n",
       "      <td>0.605303</td>\n",
       "      <td>0.686307</td>\n",
       "      <td>-0.215070</td>\n",
       "      <td>-0.026327</td>\n",
       "      <td>-0.458744</td>\n",
       "      <td>-0.413749</td>\n",
       "      <td>0.071736</td>\n",
       "      <td>0.109168</td>\n",
       "      <td>0.150150</td>\n",
       "      <td>0.032748</td>\n",
       "      <td>0.145569</td>\n",
       "      <td>0.216463</td>\n",
       "    </tr>\n",
       "    <tr>\n",
       "      <th>WindSpeed9am</th>\n",
       "      <td>0.175064</td>\n",
       "      <td>0.014450</td>\n",
       "      <td>0.087338</td>\n",
       "      <td>0.193084</td>\n",
       "      <td>0.005499</td>\n",
       "      <td>0.605303</td>\n",
       "      <td>1.000000</td>\n",
       "      <td>0.519547</td>\n",
       "      <td>-0.270858</td>\n",
       "      <td>-0.031614</td>\n",
       "      <td>-0.228743</td>\n",
       "      <td>-0.175817</td>\n",
       "      <td>0.025112</td>\n",
       "      <td>0.054639</td>\n",
       "      <td>0.128545</td>\n",
       "      <td>0.004569</td>\n",
       "      <td>0.106295</td>\n",
       "      <td>0.093878</td>\n",
       "    </tr>\n",
       "    <tr>\n",
       "      <th>WindSpeed3pm</th>\n",
       "      <td>0.175173</td>\n",
       "      <td>0.050300</td>\n",
       "      <td>0.057887</td>\n",
       "      <td>0.129400</td>\n",
       "      <td>0.053834</td>\n",
       "      <td>0.686307</td>\n",
       "      <td>0.519547</td>\n",
       "      <td>1.000000</td>\n",
       "      <td>-0.145525</td>\n",
       "      <td>0.016432</td>\n",
       "      <td>-0.296351</td>\n",
       "      <td>-0.255439</td>\n",
       "      <td>0.053337</td>\n",
       "      <td>0.025396</td>\n",
       "      <td>0.163030</td>\n",
       "      <td>0.027778</td>\n",
       "      <td>0.079032</td>\n",
       "      <td>0.084738</td>\n",
       "    </tr>\n",
       "    <tr>\n",
       "      <th>Humidity9am</th>\n",
       "      <td>-0.232899</td>\n",
       "      <td>-0.504110</td>\n",
       "      <td>0.224405</td>\n",
       "      <td>-0.504092</td>\n",
       "      <td>-0.490819</td>\n",
       "      <td>-0.215070</td>\n",
       "      <td>-0.270858</td>\n",
       "      <td>-0.145525</td>\n",
       "      <td>1.000000</td>\n",
       "      <td>0.666949</td>\n",
       "      <td>0.139442</td>\n",
       "      <td>0.186858</td>\n",
       "      <td>0.452297</td>\n",
       "      <td>0.357326</td>\n",
       "      <td>-0.471354</td>\n",
       "      <td>-0.498399</td>\n",
       "      <td>0.317817</td>\n",
       "      <td>0.230747</td>\n",
       "    </tr>\n",
       "    <tr>\n",
       "      <th>Humidity3pm</th>\n",
       "      <td>0.006089</td>\n",
       "      <td>-0.508855</td>\n",
       "      <td>0.255755</td>\n",
       "      <td>-0.390243</td>\n",
       "      <td>-0.629130</td>\n",
       "      <td>-0.026327</td>\n",
       "      <td>-0.031614</td>\n",
       "      <td>0.016432</td>\n",
       "      <td>0.666949</td>\n",
       "      <td>1.000000</td>\n",
       "      <td>-0.027544</td>\n",
       "      <td>0.051997</td>\n",
       "      <td>0.517120</td>\n",
       "      <td>0.523120</td>\n",
       "      <td>-0.221019</td>\n",
       "      <td>-0.557841</td>\n",
       "      <td>0.339132</td>\n",
       "      <td>0.397160</td>\n",
       "    </tr>\n",
       "    <tr>\n",
       "      <th>Pressure9am</th>\n",
       "      <td>-0.450970</td>\n",
       "      <td>-0.332061</td>\n",
       "      <td>-0.168154</td>\n",
       "      <td>-0.270362</td>\n",
       "      <td>0.041970</td>\n",
       "      <td>-0.458744</td>\n",
       "      <td>-0.228743</td>\n",
       "      <td>-0.296351</td>\n",
       "      <td>0.139442</td>\n",
       "      <td>-0.027544</td>\n",
       "      <td>1.000000</td>\n",
       "      <td>0.961326</td>\n",
       "      <td>-0.129796</td>\n",
       "      <td>-0.147861</td>\n",
       "      <td>-0.422556</td>\n",
       "      <td>-0.286770</td>\n",
       "      <td>-0.166642</td>\n",
       "      <td>-0.215554</td>\n",
       "    </tr>\n",
       "    <tr>\n",
       "      <th>Pressure3pm</th>\n",
       "      <td>-0.461292</td>\n",
       "      <td>-0.427167</td>\n",
       "      <td>-0.126534</td>\n",
       "      <td>-0.293581</td>\n",
       "      <td>-0.019719</td>\n",
       "      <td>-0.413749</td>\n",
       "      <td>-0.175817</td>\n",
       "      <td>-0.255439</td>\n",
       "      <td>0.186858</td>\n",
       "      <td>0.051997</td>\n",
       "      <td>0.961326</td>\n",
       "      <td>1.000000</td>\n",
       "      <td>-0.060772</td>\n",
       "      <td>-0.084778</td>\n",
       "      <td>-0.470187</td>\n",
       "      <td>-0.389548</td>\n",
       "      <td>-0.092429</td>\n",
       "      <td>-0.197110</td>\n",
       "    </tr>\n",
       "    <tr>\n",
       "      <th>Cloud9am</th>\n",
       "      <td>0.078754</td>\n",
       "      <td>-0.289370</td>\n",
       "      <td>0.198528</td>\n",
       "      <td>-0.183793</td>\n",
       "      <td>-0.675323</td>\n",
       "      <td>0.071736</td>\n",
       "      <td>0.025112</td>\n",
       "      <td>0.053337</td>\n",
       "      <td>0.452297</td>\n",
       "      <td>0.517120</td>\n",
       "      <td>-0.129796</td>\n",
       "      <td>-0.060772</td>\n",
       "      <td>1.000000</td>\n",
       "      <td>0.603564</td>\n",
       "      <td>-0.136959</td>\n",
       "      <td>-0.302060</td>\n",
       "      <td>0.302226</td>\n",
       "      <td>0.301263</td>\n",
       "    </tr>\n",
       "    <tr>\n",
       "      <th>Cloud3pm</th>\n",
       "      <td>0.021605</td>\n",
       "      <td>-0.277921</td>\n",
       "      <td>0.172403</td>\n",
       "      <td>-0.182618</td>\n",
       "      <td>-0.703930</td>\n",
       "      <td>0.109168</td>\n",
       "      <td>0.054639</td>\n",
       "      <td>0.025396</td>\n",
       "      <td>0.357326</td>\n",
       "      <td>0.523120</td>\n",
       "      <td>-0.147861</td>\n",
       "      <td>-0.084778</td>\n",
       "      <td>0.603564</td>\n",
       "      <td>1.000000</td>\n",
       "      <td>-0.126659</td>\n",
       "      <td>-0.317420</td>\n",
       "      <td>0.262449</td>\n",
       "      <td>0.356059</td>\n",
       "    </tr>\n",
       "    <tr>\n",
       "      <th>Temperature9am</th>\n",
       "      <td>0.901821</td>\n",
       "      <td>0.887210</td>\n",
       "      <td>0.011192</td>\n",
       "      <td>0.545115</td>\n",
       "      <td>0.291188</td>\n",
       "      <td>0.150150</td>\n",
       "      <td>0.128545</td>\n",
       "      <td>0.163030</td>\n",
       "      <td>-0.471354</td>\n",
       "      <td>-0.221019</td>\n",
       "      <td>-0.422556</td>\n",
       "      <td>-0.470187</td>\n",
       "      <td>-0.136959</td>\n",
       "      <td>-0.126659</td>\n",
       "      <td>1.000000</td>\n",
       "      <td>0.860591</td>\n",
       "      <td>-0.083001</td>\n",
       "      <td>-0.020539</td>\n",
       "    </tr>\n",
       "    <tr>\n",
       "      <th>Temperature3pm</th>\n",
       "      <td>0.708906</td>\n",
       "      <td>0.984503</td>\n",
       "      <td>-0.079657</td>\n",
       "      <td>0.572893</td>\n",
       "      <td>0.490501</td>\n",
       "      <td>0.032748</td>\n",
       "      <td>0.004569</td>\n",
       "      <td>0.027778</td>\n",
       "      <td>-0.498399</td>\n",
       "      <td>-0.557841</td>\n",
       "      <td>-0.286770</td>\n",
       "      <td>-0.389548</td>\n",
       "      <td>-0.302060</td>\n",
       "      <td>-0.317420</td>\n",
       "      <td>0.860591</td>\n",
       "      <td>1.000000</td>\n",
       "      <td>-0.207192</td>\n",
       "      <td>-0.169035</td>\n",
       "    </tr>\n",
       "    <tr>\n",
       "      <th>CloudBurst Today</th>\n",
       "      <td>0.053249</td>\n",
       "      <td>-0.202647</td>\n",
       "      <td>0.501516</td>\n",
       "      <td>-0.173909</td>\n",
       "      <td>-0.301930</td>\n",
       "      <td>0.145569</td>\n",
       "      <td>0.106295</td>\n",
       "      <td>0.079032</td>\n",
       "      <td>0.317817</td>\n",
       "      <td>0.339132</td>\n",
       "      <td>-0.166642</td>\n",
       "      <td>-0.092429</td>\n",
       "      <td>0.302226</td>\n",
       "      <td>0.262449</td>\n",
       "      <td>-0.083001</td>\n",
       "      <td>-0.207192</td>\n",
       "      <td>1.000000</td>\n",
       "      <td>0.404622</td>\n",
       "    </tr>\n",
       "    <tr>\n",
       "      <th>CloudBurstTomorrow</th>\n",
       "      <td>0.077324</td>\n",
       "      <td>-0.141733</td>\n",
       "      <td>0.223487</td>\n",
       "      <td>-0.105260</td>\n",
       "      <td>-0.405503</td>\n",
       "      <td>0.216463</td>\n",
       "      <td>0.093878</td>\n",
       "      <td>0.084738</td>\n",
       "      <td>0.230747</td>\n",
       "      <td>0.397160</td>\n",
       "      <td>-0.215554</td>\n",
       "      <td>-0.197110</td>\n",
       "      <td>0.301263</td>\n",
       "      <td>0.356059</td>\n",
       "      <td>-0.020539</td>\n",
       "      <td>-0.169035</td>\n",
       "      <td>0.404622</td>\n",
       "      <td>1.000000</td>\n",
       "    </tr>\n",
       "  </tbody>\n",
       "</table>\n",
       "</div>"
      ],
      "text/plain": [
       "                    MinimumTemperature  MaximumTemperature  Rainfall  \\\n",
       "MinimumTemperature            1.000000            0.736555  0.103938   \n",
       "MaximumTemperature            0.736555            1.000000 -0.074992   \n",
       "Rainfall                      0.103938           -0.074992  1.000000   \n",
       "Evaporation                   0.466993            0.587932 -0.064351   \n",
       "Sunshine                      0.072586            0.470156 -0.227549   \n",
       "WindGustSpeed                 0.177415            0.067615  0.133659   \n",
       "WindSpeed9am                  0.175064            0.014450  0.087338   \n",
       "WindSpeed3pm                  0.175173            0.050300  0.057887   \n",
       "Humidity9am                  -0.232899           -0.504110  0.224405   \n",
       "Humidity3pm                   0.006089           -0.508855  0.255755   \n",
       "Pressure9am                  -0.450970           -0.332061 -0.168154   \n",
       "Pressure3pm                  -0.461292           -0.427167 -0.126534   \n",
       "Cloud9am                      0.078754           -0.289370  0.198528   \n",
       "Cloud3pm                      0.021605           -0.277921  0.172403   \n",
       "Temperature9am                0.901821            0.887210  0.011192   \n",
       "Temperature3pm                0.708906            0.984503 -0.079657   \n",
       "CloudBurst Today              0.053249           -0.202647  0.501516   \n",
       "CloudBurstTomorrow            0.077324           -0.141733  0.223487   \n",
       "\n",
       "                    Evaporation  Sunshine  WindGustSpeed  WindSpeed9am  \\\n",
       "MinimumTemperature     0.466993  0.072586       0.177415      0.175064   \n",
       "MaximumTemperature     0.587932  0.470156       0.067615      0.014450   \n",
       "Rainfall              -0.064351 -0.227549       0.133659      0.087338   \n",
       "Evaporation            1.000000  0.365602       0.203021      0.193084   \n",
       "Sunshine               0.365602  1.000000      -0.034750      0.005499   \n",
       "WindGustSpeed          0.203021 -0.034750       1.000000      0.605303   \n",
       "WindSpeed9am           0.193084  0.005499       0.605303      1.000000   \n",
       "WindSpeed3pm           0.129400  0.053834       0.686307      0.519547   \n",
       "Humidity9am           -0.504092 -0.490819      -0.215070     -0.270858   \n",
       "Humidity3pm           -0.390243 -0.629130      -0.026327     -0.031614   \n",
       "Pressure9am           -0.270362  0.041970      -0.458744     -0.228743   \n",
       "Pressure3pm           -0.293581 -0.019719      -0.413749     -0.175817   \n",
       "Cloud9am              -0.183793 -0.675323       0.071736      0.025112   \n",
       "Cloud3pm              -0.182618 -0.703930       0.109168      0.054639   \n",
       "Temperature9am         0.545115  0.291188       0.150150      0.128545   \n",
       "Temperature3pm         0.572893  0.490501       0.032748      0.004569   \n",
       "CloudBurst Today      -0.173909 -0.301930       0.145569      0.106295   \n",
       "CloudBurstTomorrow    -0.105260 -0.405503       0.216463      0.093878   \n",
       "\n",
       "                    WindSpeed3pm  Humidity9am  Humidity3pm  Pressure9am  \\\n",
       "MinimumTemperature      0.175173    -0.232899     0.006089    -0.450970   \n",
       "MaximumTemperature      0.050300    -0.504110    -0.508855    -0.332061   \n",
       "Rainfall                0.057887     0.224405     0.255755    -0.168154   \n",
       "Evaporation             0.129400    -0.504092    -0.390243    -0.270362   \n",
       "Sunshine                0.053834    -0.490819    -0.629130     0.041970   \n",
       "WindGustSpeed           0.686307    -0.215070    -0.026327    -0.458744   \n",
       "WindSpeed9am            0.519547    -0.270858    -0.031614    -0.228743   \n",
       "WindSpeed3pm            1.000000    -0.145525     0.016432    -0.296351   \n",
       "Humidity9am            -0.145525     1.000000     0.666949     0.139442   \n",
       "Humidity3pm             0.016432     0.666949     1.000000    -0.027544   \n",
       "Pressure9am            -0.296351     0.139442    -0.027544     1.000000   \n",
       "Pressure3pm            -0.255439     0.186858     0.051997     0.961326   \n",
       "Cloud9am                0.053337     0.452297     0.517120    -0.129796   \n",
       "Cloud3pm                0.025396     0.357326     0.523120    -0.147861   \n",
       "Temperature9am          0.163030    -0.471354    -0.221019    -0.422556   \n",
       "Temperature3pm          0.027778    -0.498399    -0.557841    -0.286770   \n",
       "CloudBurst Today        0.079032     0.317817     0.339132    -0.166642   \n",
       "CloudBurstTomorrow      0.084738     0.230747     0.397160    -0.215554   \n",
       "\n",
       "                    Pressure3pm  Cloud9am  Cloud3pm  Temperature9am  \\\n",
       "MinimumTemperature    -0.461292  0.078754  0.021605        0.901821   \n",
       "MaximumTemperature    -0.427167 -0.289370 -0.277921        0.887210   \n",
       "Rainfall              -0.126534  0.198528  0.172403        0.011192   \n",
       "Evaporation           -0.293581 -0.183793 -0.182618        0.545115   \n",
       "Sunshine              -0.019719 -0.675323 -0.703930        0.291188   \n",
       "WindGustSpeed         -0.413749  0.071736  0.109168        0.150150   \n",
       "WindSpeed9am          -0.175817  0.025112  0.054639        0.128545   \n",
       "WindSpeed3pm          -0.255439  0.053337  0.025396        0.163030   \n",
       "Humidity9am            0.186858  0.452297  0.357326       -0.471354   \n",
       "Humidity3pm            0.051997  0.517120  0.523120       -0.221019   \n",
       "Pressure9am            0.961326 -0.129796 -0.147861       -0.422556   \n",
       "Pressure3pm            1.000000 -0.060772 -0.084778       -0.470187   \n",
       "Cloud9am              -0.060772  1.000000  0.603564       -0.136959   \n",
       "Cloud3pm              -0.084778  0.603564  1.000000       -0.126659   \n",
       "Temperature9am        -0.470187 -0.136959 -0.126659        1.000000   \n",
       "Temperature3pm        -0.389548 -0.302060 -0.317420        0.860591   \n",
       "CloudBurst Today      -0.092429  0.302226  0.262449       -0.083001   \n",
       "CloudBurstTomorrow    -0.197110  0.301263  0.356059       -0.020539   \n",
       "\n",
       "                    Temperature3pm  CloudBurst Today  CloudBurstTomorrow  \n",
       "MinimumTemperature        0.708906          0.053249            0.077324  \n",
       "MaximumTemperature        0.984503         -0.202647           -0.141733  \n",
       "Rainfall                 -0.079657          0.501516            0.223487  \n",
       "Evaporation               0.572893         -0.173909           -0.105260  \n",
       "Sunshine                  0.490501         -0.301930           -0.405503  \n",
       "WindGustSpeed             0.032748          0.145569            0.216463  \n",
       "WindSpeed9am              0.004569          0.106295            0.093878  \n",
       "WindSpeed3pm              0.027778          0.079032            0.084738  \n",
       "Humidity9am              -0.498399          0.317817            0.230747  \n",
       "Humidity3pm              -0.557841          0.339132            0.397160  \n",
       "Pressure9am              -0.286770         -0.166642           -0.215554  \n",
       "Pressure3pm              -0.389548         -0.092429           -0.197110  \n",
       "Cloud9am                 -0.302060          0.302226            0.301263  \n",
       "Cloud3pm                 -0.317420          0.262449            0.356059  \n",
       "Temperature9am            0.860591         -0.083001           -0.020539  \n",
       "Temperature3pm            1.000000         -0.207192           -0.169035  \n",
       "CloudBurst Today         -0.207192          1.000000            0.404622  \n",
       "CloudBurstTomorrow       -0.169035          0.404622            1.000000  "
      ]
     },
     "execution_count": 17,
     "metadata": {},
     "output_type": "execute_result"
    }
   ],
   "source": [
    "data1.corr()"
   ]
  },
  {
   "cell_type": "markdown",
   "id": "5d3013ea",
   "metadata": {},
   "source": [
    "## Removing the columns that affect the cloudburst events very less"
   ]
  },
  {
   "cell_type": "code",
   "execution_count": 19,
   "id": "1f2da8dd",
   "metadata": {},
   "outputs": [],
   "source": [
    "data2 = pd.DataFrame() "
   ]
  },
  {
   "cell_type": "code",
   "execution_count": 21,
   "id": "8bed00a5",
   "metadata": {},
   "outputs": [],
   "source": [
    "data2 = data1.drop(['MinimumTemperature','Evaporation', 'WindSpeed9am', 'WindSpeed3pm', 'Temperature9am'], axis = 1)"
   ]
  },
  {
   "cell_type": "code",
   "execution_count": 22,
   "id": "2ccd75ba",
   "metadata": {},
   "outputs": [
    {
     "name": "stdout",
     "output_type": "stream",
     "text": [
      "<class 'pandas.core.frame.DataFrame'>\n",
      "RangeIndex: 145460 entries, 0 to 145459\n",
      "Data columns (total 13 columns):\n",
      " #   Column              Non-Null Count   Dtype  \n",
      "---  ------              --------------   -----  \n",
      " 0   MaximumTemperature  144199 non-null  float64\n",
      " 1   Rainfall            142199 non-null  float64\n",
      " 2   Sunshine            75625 non-null   float64\n",
      " 3   WindGustSpeed       135197 non-null  float64\n",
      " 4   Humidity9am         142806 non-null  float64\n",
      " 5   Humidity3pm         140953 non-null  float64\n",
      " 6   Pressure9am         130395 non-null  float64\n",
      " 7   Pressure3pm         130432 non-null  float64\n",
      " 8   Cloud9am            89572 non-null   float64\n",
      " 9   Cloud3pm            86102 non-null   float64\n",
      " 10  Temperature3pm      141851 non-null  float64\n",
      " 11  CloudBurst Today    145460 non-null  int32  \n",
      " 12  CloudBurstTomorrow  145460 non-null  int32  \n",
      "dtypes: float64(11), int32(2)\n",
      "memory usage: 13.3 MB\n"
     ]
    }
   ],
   "source": [
    "data2.info()"
   ]
  },
  {
   "cell_type": "code",
   "execution_count": 23,
   "id": "7a974ca7",
   "metadata": {},
   "outputs": [
    {
     "data": {
      "text/html": [
       "<div>\n",
       "<style scoped>\n",
       "    .dataframe tbody tr th:only-of-type {\n",
       "        vertical-align: middle;\n",
       "    }\n",
       "\n",
       "    .dataframe tbody tr th {\n",
       "        vertical-align: top;\n",
       "    }\n",
       "\n",
       "    .dataframe thead th {\n",
       "        text-align: right;\n",
       "    }\n",
       "</style>\n",
       "<table border=\"1\" class=\"dataframe\">\n",
       "  <thead>\n",
       "    <tr style=\"text-align: right;\">\n",
       "      <th></th>\n",
       "      <th>MaximumTemperature</th>\n",
       "      <th>Rainfall</th>\n",
       "      <th>Sunshine</th>\n",
       "      <th>WindGustSpeed</th>\n",
       "      <th>Humidity9am</th>\n",
       "      <th>Humidity3pm</th>\n",
       "      <th>Pressure9am</th>\n",
       "      <th>Pressure3pm</th>\n",
       "      <th>Cloud9am</th>\n",
       "      <th>Cloud3pm</th>\n",
       "      <th>Temperature3pm</th>\n",
       "      <th>CloudBurst Today</th>\n",
       "      <th>CloudBurstTomorrow</th>\n",
       "    </tr>\n",
       "  </thead>\n",
       "  <tbody>\n",
       "    <tr>\n",
       "      <th>MaximumTemperature</th>\n",
       "      <td>1.000000</td>\n",
       "      <td>-0.074992</td>\n",
       "      <td>0.470156</td>\n",
       "      <td>0.067615</td>\n",
       "      <td>-0.504110</td>\n",
       "      <td>-0.508855</td>\n",
       "      <td>-0.332061</td>\n",
       "      <td>-0.427167</td>\n",
       "      <td>-0.289370</td>\n",
       "      <td>-0.277921</td>\n",
       "      <td>0.984503</td>\n",
       "      <td>-0.202647</td>\n",
       "      <td>-0.141733</td>\n",
       "    </tr>\n",
       "    <tr>\n",
       "      <th>Rainfall</th>\n",
       "      <td>-0.074992</td>\n",
       "      <td>1.000000</td>\n",
       "      <td>-0.227549</td>\n",
       "      <td>0.133659</td>\n",
       "      <td>0.224405</td>\n",
       "      <td>0.255755</td>\n",
       "      <td>-0.168154</td>\n",
       "      <td>-0.126534</td>\n",
       "      <td>0.198528</td>\n",
       "      <td>0.172403</td>\n",
       "      <td>-0.079657</td>\n",
       "      <td>0.501516</td>\n",
       "      <td>0.223487</td>\n",
       "    </tr>\n",
       "    <tr>\n",
       "      <th>Sunshine</th>\n",
       "      <td>0.470156</td>\n",
       "      <td>-0.227549</td>\n",
       "      <td>1.000000</td>\n",
       "      <td>-0.034750</td>\n",
       "      <td>-0.490819</td>\n",
       "      <td>-0.629130</td>\n",
       "      <td>0.041970</td>\n",
       "      <td>-0.019719</td>\n",
       "      <td>-0.675323</td>\n",
       "      <td>-0.703930</td>\n",
       "      <td>0.490501</td>\n",
       "      <td>-0.301930</td>\n",
       "      <td>-0.405503</td>\n",
       "    </tr>\n",
       "    <tr>\n",
       "      <th>WindGustSpeed</th>\n",
       "      <td>0.067615</td>\n",
       "      <td>0.133659</td>\n",
       "      <td>-0.034750</td>\n",
       "      <td>1.000000</td>\n",
       "      <td>-0.215070</td>\n",
       "      <td>-0.026327</td>\n",
       "      <td>-0.458744</td>\n",
       "      <td>-0.413749</td>\n",
       "      <td>0.071736</td>\n",
       "      <td>0.109168</td>\n",
       "      <td>0.032748</td>\n",
       "      <td>0.145569</td>\n",
       "      <td>0.216463</td>\n",
       "    </tr>\n",
       "    <tr>\n",
       "      <th>Humidity9am</th>\n",
       "      <td>-0.504110</td>\n",
       "      <td>0.224405</td>\n",
       "      <td>-0.490819</td>\n",
       "      <td>-0.215070</td>\n",
       "      <td>1.000000</td>\n",
       "      <td>0.666949</td>\n",
       "      <td>0.139442</td>\n",
       "      <td>0.186858</td>\n",
       "      <td>0.452297</td>\n",
       "      <td>0.357326</td>\n",
       "      <td>-0.498399</td>\n",
       "      <td>0.317817</td>\n",
       "      <td>0.230747</td>\n",
       "    </tr>\n",
       "    <tr>\n",
       "      <th>Humidity3pm</th>\n",
       "      <td>-0.508855</td>\n",
       "      <td>0.255755</td>\n",
       "      <td>-0.629130</td>\n",
       "      <td>-0.026327</td>\n",
       "      <td>0.666949</td>\n",
       "      <td>1.000000</td>\n",
       "      <td>-0.027544</td>\n",
       "      <td>0.051997</td>\n",
       "      <td>0.517120</td>\n",
       "      <td>0.523120</td>\n",
       "      <td>-0.557841</td>\n",
       "      <td>0.339132</td>\n",
       "      <td>0.397160</td>\n",
       "    </tr>\n",
       "    <tr>\n",
       "      <th>Pressure9am</th>\n",
       "      <td>-0.332061</td>\n",
       "      <td>-0.168154</td>\n",
       "      <td>0.041970</td>\n",
       "      <td>-0.458744</td>\n",
       "      <td>0.139442</td>\n",
       "      <td>-0.027544</td>\n",
       "      <td>1.000000</td>\n",
       "      <td>0.961326</td>\n",
       "      <td>-0.129796</td>\n",
       "      <td>-0.147861</td>\n",
       "      <td>-0.286770</td>\n",
       "      <td>-0.166642</td>\n",
       "      <td>-0.215554</td>\n",
       "    </tr>\n",
       "    <tr>\n",
       "      <th>Pressure3pm</th>\n",
       "      <td>-0.427167</td>\n",
       "      <td>-0.126534</td>\n",
       "      <td>-0.019719</td>\n",
       "      <td>-0.413749</td>\n",
       "      <td>0.186858</td>\n",
       "      <td>0.051997</td>\n",
       "      <td>0.961326</td>\n",
       "      <td>1.000000</td>\n",
       "      <td>-0.060772</td>\n",
       "      <td>-0.084778</td>\n",
       "      <td>-0.389548</td>\n",
       "      <td>-0.092429</td>\n",
       "      <td>-0.197110</td>\n",
       "    </tr>\n",
       "    <tr>\n",
       "      <th>Cloud9am</th>\n",
       "      <td>-0.289370</td>\n",
       "      <td>0.198528</td>\n",
       "      <td>-0.675323</td>\n",
       "      <td>0.071736</td>\n",
       "      <td>0.452297</td>\n",
       "      <td>0.517120</td>\n",
       "      <td>-0.129796</td>\n",
       "      <td>-0.060772</td>\n",
       "      <td>1.000000</td>\n",
       "      <td>0.603564</td>\n",
       "      <td>-0.302060</td>\n",
       "      <td>0.302226</td>\n",
       "      <td>0.301263</td>\n",
       "    </tr>\n",
       "    <tr>\n",
       "      <th>Cloud3pm</th>\n",
       "      <td>-0.277921</td>\n",
       "      <td>0.172403</td>\n",
       "      <td>-0.703930</td>\n",
       "      <td>0.109168</td>\n",
       "      <td>0.357326</td>\n",
       "      <td>0.523120</td>\n",
       "      <td>-0.147861</td>\n",
       "      <td>-0.084778</td>\n",
       "      <td>0.603564</td>\n",
       "      <td>1.000000</td>\n",
       "      <td>-0.317420</td>\n",
       "      <td>0.262449</td>\n",
       "      <td>0.356059</td>\n",
       "    </tr>\n",
       "    <tr>\n",
       "      <th>Temperature3pm</th>\n",
       "      <td>0.984503</td>\n",
       "      <td>-0.079657</td>\n",
       "      <td>0.490501</td>\n",
       "      <td>0.032748</td>\n",
       "      <td>-0.498399</td>\n",
       "      <td>-0.557841</td>\n",
       "      <td>-0.286770</td>\n",
       "      <td>-0.389548</td>\n",
       "      <td>-0.302060</td>\n",
       "      <td>-0.317420</td>\n",
       "      <td>1.000000</td>\n",
       "      <td>-0.207192</td>\n",
       "      <td>-0.169035</td>\n",
       "    </tr>\n",
       "    <tr>\n",
       "      <th>CloudBurst Today</th>\n",
       "      <td>-0.202647</td>\n",
       "      <td>0.501516</td>\n",
       "      <td>-0.301930</td>\n",
       "      <td>0.145569</td>\n",
       "      <td>0.317817</td>\n",
       "      <td>0.339132</td>\n",
       "      <td>-0.166642</td>\n",
       "      <td>-0.092429</td>\n",
       "      <td>0.302226</td>\n",
       "      <td>0.262449</td>\n",
       "      <td>-0.207192</td>\n",
       "      <td>1.000000</td>\n",
       "      <td>0.404622</td>\n",
       "    </tr>\n",
       "    <tr>\n",
       "      <th>CloudBurstTomorrow</th>\n",
       "      <td>-0.141733</td>\n",
       "      <td>0.223487</td>\n",
       "      <td>-0.405503</td>\n",
       "      <td>0.216463</td>\n",
       "      <td>0.230747</td>\n",
       "      <td>0.397160</td>\n",
       "      <td>-0.215554</td>\n",
       "      <td>-0.197110</td>\n",
       "      <td>0.301263</td>\n",
       "      <td>0.356059</td>\n",
       "      <td>-0.169035</td>\n",
       "      <td>0.404622</td>\n",
       "      <td>1.000000</td>\n",
       "    </tr>\n",
       "  </tbody>\n",
       "</table>\n",
       "</div>"
      ],
      "text/plain": [
       "                    MaximumTemperature  Rainfall  Sunshine  WindGustSpeed  \\\n",
       "MaximumTemperature            1.000000 -0.074992  0.470156       0.067615   \n",
       "Rainfall                     -0.074992  1.000000 -0.227549       0.133659   \n",
       "Sunshine                      0.470156 -0.227549  1.000000      -0.034750   \n",
       "WindGustSpeed                 0.067615  0.133659 -0.034750       1.000000   \n",
       "Humidity9am                  -0.504110  0.224405 -0.490819      -0.215070   \n",
       "Humidity3pm                  -0.508855  0.255755 -0.629130      -0.026327   \n",
       "Pressure9am                  -0.332061 -0.168154  0.041970      -0.458744   \n",
       "Pressure3pm                  -0.427167 -0.126534 -0.019719      -0.413749   \n",
       "Cloud9am                     -0.289370  0.198528 -0.675323       0.071736   \n",
       "Cloud3pm                     -0.277921  0.172403 -0.703930       0.109168   \n",
       "Temperature3pm                0.984503 -0.079657  0.490501       0.032748   \n",
       "CloudBurst Today             -0.202647  0.501516 -0.301930       0.145569   \n",
       "CloudBurstTomorrow           -0.141733  0.223487 -0.405503       0.216463   \n",
       "\n",
       "                    Humidity9am  Humidity3pm  Pressure9am  Pressure3pm  \\\n",
       "MaximumTemperature    -0.504110    -0.508855    -0.332061    -0.427167   \n",
       "Rainfall               0.224405     0.255755    -0.168154    -0.126534   \n",
       "Sunshine              -0.490819    -0.629130     0.041970    -0.019719   \n",
       "WindGustSpeed         -0.215070    -0.026327    -0.458744    -0.413749   \n",
       "Humidity9am            1.000000     0.666949     0.139442     0.186858   \n",
       "Humidity3pm            0.666949     1.000000    -0.027544     0.051997   \n",
       "Pressure9am            0.139442    -0.027544     1.000000     0.961326   \n",
       "Pressure3pm            0.186858     0.051997     0.961326     1.000000   \n",
       "Cloud9am               0.452297     0.517120    -0.129796    -0.060772   \n",
       "Cloud3pm               0.357326     0.523120    -0.147861    -0.084778   \n",
       "Temperature3pm        -0.498399    -0.557841    -0.286770    -0.389548   \n",
       "CloudBurst Today       0.317817     0.339132    -0.166642    -0.092429   \n",
       "CloudBurstTomorrow     0.230747     0.397160    -0.215554    -0.197110   \n",
       "\n",
       "                    Cloud9am  Cloud3pm  Temperature3pm  CloudBurst Today  \\\n",
       "MaximumTemperature -0.289370 -0.277921        0.984503         -0.202647   \n",
       "Rainfall            0.198528  0.172403       -0.079657          0.501516   \n",
       "Sunshine           -0.675323 -0.703930        0.490501         -0.301930   \n",
       "WindGustSpeed       0.071736  0.109168        0.032748          0.145569   \n",
       "Humidity9am         0.452297  0.357326       -0.498399          0.317817   \n",
       "Humidity3pm         0.517120  0.523120       -0.557841          0.339132   \n",
       "Pressure9am        -0.129796 -0.147861       -0.286770         -0.166642   \n",
       "Pressure3pm        -0.060772 -0.084778       -0.389548         -0.092429   \n",
       "Cloud9am            1.000000  0.603564       -0.302060          0.302226   \n",
       "Cloud3pm            0.603564  1.000000       -0.317420          0.262449   \n",
       "Temperature3pm     -0.302060 -0.317420        1.000000         -0.207192   \n",
       "CloudBurst Today    0.302226  0.262449       -0.207192          1.000000   \n",
       "CloudBurstTomorrow  0.301263  0.356059       -0.169035          0.404622   \n",
       "\n",
       "                    CloudBurstTomorrow  \n",
       "MaximumTemperature           -0.141733  \n",
       "Rainfall                      0.223487  \n",
       "Sunshine                     -0.405503  \n",
       "WindGustSpeed                 0.216463  \n",
       "Humidity9am                   0.230747  \n",
       "Humidity3pm                   0.397160  \n",
       "Pressure9am                  -0.215554  \n",
       "Pressure3pm                  -0.197110  \n",
       "Cloud9am                      0.301263  \n",
       "Cloud3pm                      0.356059  \n",
       "Temperature3pm               -0.169035  \n",
       "CloudBurst Today              0.404622  \n",
       "CloudBurstTomorrow            1.000000  "
      ]
     },
     "execution_count": 23,
     "metadata": {},
     "output_type": "execute_result"
    }
   ],
   "source": [
    "data2.corr()"
   ]
  },
  {
   "cell_type": "code",
   "execution_count": 24,
   "id": "2083adf9",
   "metadata": {},
   "outputs": [],
   "source": [
    "data2 = data2.dropna(subset = ['Sunshine', 'Humidity3pm', 'Cloud3pm', 'Cloud9am'])"
   ]
  },
  {
   "cell_type": "code",
   "execution_count": 25,
   "id": "0c5aa5c7",
   "metadata": {},
   "outputs": [
    {
     "data": {
      "text/plain": [
       "MaximumTemperature      39\n",
       "Rainfall               175\n",
       "Sunshine                 0\n",
       "WindGustSpeed         4019\n",
       "Humidity9am            116\n",
       "Humidity3pm              0\n",
       "Pressure9am             96\n",
       "Pressure3pm             67\n",
       "Cloud9am                 0\n",
       "Cloud3pm                 0\n",
       "Temperature3pm           0\n",
       "CloudBurst Today         0\n",
       "CloudBurstTomorrow       0\n",
       "dtype: int64"
      ]
     },
     "execution_count": 25,
     "metadata": {},
     "output_type": "execute_result"
    }
   ],
   "source": [
    "data2.isnull().sum()"
   ]
  },
  {
   "cell_type": "markdown",
   "id": "8585ba93",
   "metadata": {},
   "source": [
    "## Handling missing values "
   ]
  },
  {
   "cell_type": "code",
   "execution_count": 26,
   "id": "ffaf343d",
   "metadata": {},
   "outputs": [],
   "source": [
    "from sklearn.impute import KNNImputer\n",
    "imputer = KNNImputer(n_neighbors = 10)\n",
    "data3 = pd.DataFrame(imputer.fit_transform(data2),columns = data2.columns)"
   ]
  },
  {
   "cell_type": "code",
   "execution_count": 27,
   "id": "44f282de",
   "metadata": {},
   "outputs": [],
   "source": [
    "#Removing rows having NaN value in Rainfall, CloudBurstTomorrow, CloudBurst Today attributes\n",
    "data3 = data3[data3['Rainfall'].notna()]\n",
    "data3 = data3[data3['CloudBurst Today'].notna()]\n",
    "data3 = data3[data3['CloudBurstTomorrow'].notna()]"
   ]
  },
  {
   "cell_type": "code",
   "execution_count": 28,
   "id": "14069aa0",
   "metadata": {},
   "outputs": [
    {
     "data": {
      "text/html": [
       "<div>\n",
       "<style scoped>\n",
       "    .dataframe tbody tr th:only-of-type {\n",
       "        vertical-align: middle;\n",
       "    }\n",
       "\n",
       "    .dataframe tbody tr th {\n",
       "        vertical-align: top;\n",
       "    }\n",
       "\n",
       "    .dataframe thead th {\n",
       "        text-align: right;\n",
       "    }\n",
       "</style>\n",
       "<table border=\"1\" class=\"dataframe\">\n",
       "  <thead>\n",
       "    <tr style=\"text-align: right;\">\n",
       "      <th></th>\n",
       "      <th>MaximumTemperature</th>\n",
       "      <th>Rainfall</th>\n",
       "      <th>Sunshine</th>\n",
       "      <th>WindGustSpeed</th>\n",
       "      <th>Humidity9am</th>\n",
       "      <th>Humidity3pm</th>\n",
       "      <th>Pressure9am</th>\n",
       "      <th>Pressure3pm</th>\n",
       "      <th>Cloud9am</th>\n",
       "      <th>Cloud3pm</th>\n",
       "      <th>Temperature3pm</th>\n",
       "      <th>CloudBurst Today</th>\n",
       "      <th>CloudBurstTomorrow</th>\n",
       "    </tr>\n",
       "  </thead>\n",
       "  <tbody>\n",
       "    <tr>\n",
       "      <th>0</th>\n",
       "      <td>35.2</td>\n",
       "      <td>0.0</td>\n",
       "      <td>12.3</td>\n",
       "      <td>48.0</td>\n",
       "      <td>20.0</td>\n",
       "      <td>13.0</td>\n",
       "      <td>1006.3</td>\n",
       "      <td>1004.4</td>\n",
       "      <td>2.0</td>\n",
       "      <td>5.0</td>\n",
       "      <td>33.4</td>\n",
       "      <td>0.0</td>\n",
       "      <td>0.0</td>\n",
       "    </tr>\n",
       "    <tr>\n",
       "      <th>1</th>\n",
       "      <td>28.9</td>\n",
       "      <td>0.0</td>\n",
       "      <td>13.0</td>\n",
       "      <td>37.0</td>\n",
       "      <td>30.0</td>\n",
       "      <td>8.0</td>\n",
       "      <td>1012.9</td>\n",
       "      <td>1012.1</td>\n",
       "      <td>1.0</td>\n",
       "      <td>1.0</td>\n",
       "      <td>27.0</td>\n",
       "      <td>0.0</td>\n",
       "      <td>0.0</td>\n",
       "    </tr>\n",
       "    <tr>\n",
       "      <th>2</th>\n",
       "      <td>37.6</td>\n",
       "      <td>0.0</td>\n",
       "      <td>10.6</td>\n",
       "      <td>46.0</td>\n",
       "      <td>42.0</td>\n",
       "      <td>22.0</td>\n",
       "      <td>1012.3</td>\n",
       "      <td>1009.2</td>\n",
       "      <td>1.0</td>\n",
       "      <td>6.0</td>\n",
       "      <td>34.9</td>\n",
       "      <td>0.0</td>\n",
       "      <td>0.0</td>\n",
       "    </tr>\n",
       "    <tr>\n",
       "      <th>3</th>\n",
       "      <td>38.4</td>\n",
       "      <td>0.0</td>\n",
       "      <td>12.2</td>\n",
       "      <td>31.0</td>\n",
       "      <td>37.0</td>\n",
       "      <td>22.0</td>\n",
       "      <td>1012.7</td>\n",
       "      <td>1009.1</td>\n",
       "      <td>1.0</td>\n",
       "      <td>5.0</td>\n",
       "      <td>35.6</td>\n",
       "      <td>0.0</td>\n",
       "      <td>0.0</td>\n",
       "    </tr>\n",
       "    <tr>\n",
       "      <th>4</th>\n",
       "      <td>41.0</td>\n",
       "      <td>0.0</td>\n",
       "      <td>8.4</td>\n",
       "      <td>35.0</td>\n",
       "      <td>19.0</td>\n",
       "      <td>15.0</td>\n",
       "      <td>1010.7</td>\n",
       "      <td>1007.4</td>\n",
       "      <td>1.0</td>\n",
       "      <td>6.0</td>\n",
       "      <td>37.6</td>\n",
       "      <td>0.0</td>\n",
       "      <td>0.0</td>\n",
       "    </tr>\n",
       "    <tr>\n",
       "      <th>...</th>\n",
       "      <td>...</td>\n",
       "      <td>...</td>\n",
       "      <td>...</td>\n",
       "      <td>...</td>\n",
       "      <td>...</td>\n",
       "      <td>...</td>\n",
       "      <td>...</td>\n",
       "      <td>...</td>\n",
       "      <td>...</td>\n",
       "      <td>...</td>\n",
       "      <td>...</td>\n",
       "      <td>...</td>\n",
       "      <td>...</td>\n",
       "    </tr>\n",
       "    <tr>\n",
       "      <th>64634</th>\n",
       "      <td>33.4</td>\n",
       "      <td>0.0</td>\n",
       "      <td>11.0</td>\n",
       "      <td>35.0</td>\n",
       "      <td>63.0</td>\n",
       "      <td>32.0</td>\n",
       "      <td>1013.9</td>\n",
       "      <td>1010.5</td>\n",
       "      <td>0.0</td>\n",
       "      <td>1.0</td>\n",
       "      <td>32.3</td>\n",
       "      <td>0.0</td>\n",
       "      <td>0.0</td>\n",
       "    </tr>\n",
       "    <tr>\n",
       "      <th>64635</th>\n",
       "      <td>32.6</td>\n",
       "      <td>0.0</td>\n",
       "      <td>8.6</td>\n",
       "      <td>37.0</td>\n",
       "      <td>56.0</td>\n",
       "      <td>28.0</td>\n",
       "      <td>1014.6</td>\n",
       "      <td>1011.2</td>\n",
       "      <td>7.0</td>\n",
       "      <td>0.0</td>\n",
       "      <td>32.0</td>\n",
       "      <td>0.0</td>\n",
       "      <td>0.0</td>\n",
       "    </tr>\n",
       "    <tr>\n",
       "      <th>64636</th>\n",
       "      <td>32.8</td>\n",
       "      <td>0.0</td>\n",
       "      <td>11.0</td>\n",
       "      <td>33.0</td>\n",
       "      <td>46.0</td>\n",
       "      <td>23.0</td>\n",
       "      <td>1015.3</td>\n",
       "      <td>1011.8</td>\n",
       "      <td>0.0</td>\n",
       "      <td>0.0</td>\n",
       "      <td>32.1</td>\n",
       "      <td>0.0</td>\n",
       "      <td>0.0</td>\n",
       "    </tr>\n",
       "    <tr>\n",
       "      <th>64637</th>\n",
       "      <td>31.8</td>\n",
       "      <td>0.0</td>\n",
       "      <td>10.6</td>\n",
       "      <td>26.0</td>\n",
       "      <td>62.0</td>\n",
       "      <td>58.0</td>\n",
       "      <td>1014.9</td>\n",
       "      <td>1010.7</td>\n",
       "      <td>1.0</td>\n",
       "      <td>1.0</td>\n",
       "      <td>29.2</td>\n",
       "      <td>0.0</td>\n",
       "      <td>0.0</td>\n",
       "    </tr>\n",
       "    <tr>\n",
       "      <th>64638</th>\n",
       "      <td>31.7</td>\n",
       "      <td>0.0</td>\n",
       "      <td>10.7</td>\n",
       "      <td>30.0</td>\n",
       "      <td>73.0</td>\n",
       "      <td>32.0</td>\n",
       "      <td>1013.9</td>\n",
       "      <td>1009.7</td>\n",
       "      <td>6.0</td>\n",
       "      <td>5.0</td>\n",
       "      <td>31.0</td>\n",
       "      <td>0.0</td>\n",
       "      <td>0.0</td>\n",
       "    </tr>\n",
       "  </tbody>\n",
       "</table>\n",
       "<p>64639 rows × 13 columns</p>\n",
       "</div>"
      ],
      "text/plain": [
       "       MaximumTemperature  Rainfall  Sunshine  WindGustSpeed  Humidity9am  \\\n",
       "0                    35.2       0.0      12.3           48.0         20.0   \n",
       "1                    28.9       0.0      13.0           37.0         30.0   \n",
       "2                    37.6       0.0      10.6           46.0         42.0   \n",
       "3                    38.4       0.0      12.2           31.0         37.0   \n",
       "4                    41.0       0.0       8.4           35.0         19.0   \n",
       "...                   ...       ...       ...            ...          ...   \n",
       "64634                33.4       0.0      11.0           35.0         63.0   \n",
       "64635                32.6       0.0       8.6           37.0         56.0   \n",
       "64636                32.8       0.0      11.0           33.0         46.0   \n",
       "64637                31.8       0.0      10.6           26.0         62.0   \n",
       "64638                31.7       0.0      10.7           30.0         73.0   \n",
       "\n",
       "       Humidity3pm  Pressure9am  Pressure3pm  Cloud9am  Cloud3pm  \\\n",
       "0             13.0       1006.3       1004.4       2.0       5.0   \n",
       "1              8.0       1012.9       1012.1       1.0       1.0   \n",
       "2             22.0       1012.3       1009.2       1.0       6.0   \n",
       "3             22.0       1012.7       1009.1       1.0       5.0   \n",
       "4             15.0       1010.7       1007.4       1.0       6.0   \n",
       "...            ...          ...          ...       ...       ...   \n",
       "64634         32.0       1013.9       1010.5       0.0       1.0   \n",
       "64635         28.0       1014.6       1011.2       7.0       0.0   \n",
       "64636         23.0       1015.3       1011.8       0.0       0.0   \n",
       "64637         58.0       1014.9       1010.7       1.0       1.0   \n",
       "64638         32.0       1013.9       1009.7       6.0       5.0   \n",
       "\n",
       "       Temperature3pm  CloudBurst Today  CloudBurstTomorrow  \n",
       "0                33.4               0.0                 0.0  \n",
       "1                27.0               0.0                 0.0  \n",
       "2                34.9               0.0                 0.0  \n",
       "3                35.6               0.0                 0.0  \n",
       "4                37.6               0.0                 0.0  \n",
       "...               ...               ...                 ...  \n",
       "64634            32.3               0.0                 0.0  \n",
       "64635            32.0               0.0                 0.0  \n",
       "64636            32.1               0.0                 0.0  \n",
       "64637            29.2               0.0                 0.0  \n",
       "64638            31.0               0.0                 0.0  \n",
       "\n",
       "[64639 rows x 13 columns]"
      ]
     },
     "execution_count": 28,
     "metadata": {},
     "output_type": "execute_result"
    }
   ],
   "source": [
    "data3"
   ]
  },
  {
   "cell_type": "code",
   "execution_count": 29,
   "id": "bc7ea02e",
   "metadata": {
    "scrolled": true
   },
   "outputs": [
    {
     "data": {
      "text/plain": [
       "MaximumTemperature    0\n",
       "Rainfall              0\n",
       "Sunshine              0\n",
       "WindGustSpeed         0\n",
       "Humidity9am           0\n",
       "Humidity3pm           0\n",
       "Pressure9am           0\n",
       "Pressure3pm           0\n",
       "Cloud9am              0\n",
       "Cloud3pm              0\n",
       "Temperature3pm        0\n",
       "CloudBurst Today      0\n",
       "CloudBurstTomorrow    0\n",
       "dtype: int64"
      ]
     },
     "execution_count": 29,
     "metadata": {},
     "output_type": "execute_result"
    }
   ],
   "source": [
    "data3.isnull().sum()"
   ]
  },
  {
   "cell_type": "code",
   "execution_count": 30,
   "id": "aec989a8",
   "metadata": {},
   "outputs": [],
   "source": [
    "X = data3.drop(['CloudBurst Today', 'CloudBurstTomorrow'], axis=1)"
   ]
  },
  {
   "cell_type": "markdown",
   "id": "b673855d",
   "metadata": {},
   "source": [
    "## Cloudbusrt : Happening Today"
   ]
  },
  {
   "cell_type": "code",
   "execution_count": 31,
   "id": "3d0bf1ea",
   "metadata": {},
   "outputs": [],
   "source": [
    "y1 = data3['CloudBurst Today']"
   ]
  },
  {
   "cell_type": "markdown",
   "id": "7beb71d9",
   "metadata": {},
   "source": [
    "## Cloudburst : Happeing Tomorrow"
   ]
  },
  {
   "cell_type": "code",
   "execution_count": 32,
   "id": "0cecf529",
   "metadata": {},
   "outputs": [],
   "source": [
    "y2 = data3['CloudBurstTomorrow']"
   ]
  },
  {
   "cell_type": "markdown",
   "id": "fc26651e",
   "metadata": {},
   "source": [
    "# Modeling"
   ]
  },
  {
   "cell_type": "code",
   "execution_count": 33,
   "id": "0980a1db",
   "metadata": {},
   "outputs": [],
   "source": [
    "# Import train_test_split function\n",
    "from sklearn.model_selection import train_test_split"
   ]
  },
  {
   "cell_type": "markdown",
   "id": "145eed6c",
   "metadata": {},
   "source": [
    "## Split dataset into training set and test set"
   ]
  },
  {
   "cell_type": "code",
   "execution_count": 34,
   "id": "650aed17",
   "metadata": {},
   "outputs": [],
   "source": [
    "#For Cloudburst Today\n",
    "X_train1, X_test1, y_train1, y_test1 = train_test_split(X, y1, test_size=0.3)"
   ]
  },
  {
   "cell_type": "code",
   "execution_count": 35,
   "id": "7bcc54a1",
   "metadata": {},
   "outputs": [],
   "source": [
    "#For Cloudburst Tomorrow\n",
    "X_train2, X_test2, y_train2, y_test2 = train_test_split(X, y2, test_size=0.3)"
   ]
  },
  {
   "cell_type": "markdown",
   "id": "86d58ab6",
   "metadata": {},
   "source": [
    "### Model 1 : Support Vector Machine"
   ]
  },
  {
   "cell_type": "code",
   "execution_count": 36,
   "id": "a9f206b5",
   "metadata": {},
   "outputs": [],
   "source": [
    "from sklearn import svm"
   ]
  },
  {
   "cell_type": "markdown",
   "id": "635a0973",
   "metadata": {},
   "source": [
    "### For Today"
   ]
  },
  {
   "cell_type": "code",
   "execution_count": 37,
   "id": "70976624",
   "metadata": {},
   "outputs": [],
   "source": [
    "clf = svm.SVC(kernel='linear') # Linear Kernel\n",
    "\n",
    "clf.fit(X_train1, y_train1)\n",
    "\n",
    "y_pred1 = clf.predict(X_test1)"
   ]
  },
  {
   "cell_type": "code",
   "execution_count": 38,
   "id": "5c01197a",
   "metadata": {},
   "outputs": [
    {
     "name": "stdout",
     "output_type": "stream",
     "text": [
      "Accuracy :  0.9973700495049505\n"
     ]
    }
   ],
   "source": [
    "#Finding Accuracy\n",
    "from sklearn import metrics\n",
    "print(\"Accuracy : \",metrics.accuracy_score(y_test1, y_pred1))"
   ]
  },
  {
   "cell_type": "code",
   "execution_count": 40,
   "id": "f1098f9f",
   "metadata": {},
   "outputs": [
    {
     "name": "stdout",
     "output_type": "stream",
     "text": [
      "Precision: 0.9948051191477009\n",
      "Recall: 0.9973700495049505\n"
     ]
    }
   ],
   "source": [
    "#Precision: he fraction of relevant instances among the retrieved instances?\n",
    "print(\"Precision:\",metrics.precision_score(y_test1, y_pred1, average='weighted', zero_division=0))\n",
    "\n",
    "#Recall: the fraction of relevant instances that were retrieved?\n",
    "print(\"Recall:\",metrics.recall_score(y_test1, y_pred1, average='weighted', zero_division=0))"
   ]
  },
  {
   "cell_type": "markdown",
   "id": "d949b0bc-1a39-417a-8615-9c18cdbbc1b0",
   "metadata": {},
   "source": [
    "#### saving model as pickle"
   ]
  },
  {
   "cell_type": "code",
   "execution_count": 41,
   "id": "3e865043-b3fd-4e13-9a4c-615a2bf3fdb4",
   "metadata": {},
   "outputs": [],
   "source": [
    "import pickle\n",
    "with open(\"CBT_SVM_TD.pkl\", \"wb\") as f:\n",
    "    pickle.dump(clf, f)"
   ]
  },
  {
   "cell_type": "markdown",
   "id": "1ddab1da",
   "metadata": {},
   "source": [
    "### For Tomorrow"
   ]
  },
  {
   "cell_type": "code",
   "execution_count": 42,
   "id": "fe3ad6cf",
   "metadata": {},
   "outputs": [],
   "source": [
    "clf1 = svm.SVC(kernel='linear') # Linear Kernel\n",
    "\n",
    "clf1.fit(X_train2, y_train2)\n",
    "\n",
    "y_pred2 = clf1.predict(X_test2)"
   ]
  },
  {
   "cell_type": "code",
   "execution_count": 43,
   "id": "4ad05346",
   "metadata": {},
   "outputs": [
    {
     "name": "stdout",
     "output_type": "stream",
     "text": [
      "Accuracy :  0.8430280528052805\n"
     ]
    }
   ],
   "source": [
    "#Finding Accuracy\n",
    "from sklearn import metrics\n",
    "print(\"Accuracy : \",metrics.accuracy_score(y_test2, y_pred2))"
   ]
  },
  {
   "cell_type": "code",
   "execution_count": 44,
   "id": "9a6cb301",
   "metadata": {},
   "outputs": [
    {
     "name": "stdout",
     "output_type": "stream",
     "text": [
      "Precision: 0.8287825622517192\n",
      "Recall: 0.8430280528052805\n"
     ]
    }
   ],
   "source": [
    "#Precision: he fraction of relevant instances among the retrieved instances?\n",
    "print(\"Precision:\",metrics.precision_score(y_test2, y_pred2, average='weighted', zero_division=0))\n",
    "\n",
    "#Recall: the fraction of relevant instances that were retrieved?\n",
    "print(\"Recall:\",metrics.recall_score(y_test2, y_pred2, average='weighted', zero_division=0))"
   ]
  },
  {
   "cell_type": "markdown",
   "id": "6f4a75a5-94e1-4d41-81ee-9009e30a8c83",
   "metadata": {},
   "source": [
    "#### saving model as pickle"
   ]
  },
  {
   "cell_type": "code",
   "execution_count": 45,
   "id": "f3f8ebcf-5073-4847-95c8-d7d4fe489fda",
   "metadata": {},
   "outputs": [],
   "source": [
    "import pickle\n",
    "with open(\"CBT_SVM_TM.pkl\", \"wb\") as f:\n",
    "    pickle.dump(clf1, f)"
   ]
  },
  {
   "cell_type": "markdown",
   "id": "cbbd3503",
   "metadata": {},
   "source": [
    "## Model 2 : Random Forest"
   ]
  },
  {
   "cell_type": "code",
   "execution_count": 46,
   "id": "a480851f",
   "metadata": {},
   "outputs": [],
   "source": [
    "from sklearn.ensemble import RandomForestClassifier"
   ]
  },
  {
   "cell_type": "markdown",
   "id": "15c51ac5",
   "metadata": {},
   "source": [
    "### For Today"
   ]
  },
  {
   "cell_type": "code",
   "execution_count": 47,
   "id": "bcd412df",
   "metadata": {},
   "outputs": [
    {
     "data": {
      "text/html": [
       "<style>#sk-container-id-1 {color: black;}#sk-container-id-1 pre{padding: 0;}#sk-container-id-1 div.sk-toggleable {background-color: white;}#sk-container-id-1 label.sk-toggleable__label {cursor: pointer;display: block;width: 100%;margin-bottom: 0;padding: 0.3em;box-sizing: border-box;text-align: center;}#sk-container-id-1 label.sk-toggleable__label-arrow:before {content: \"▸\";float: left;margin-right: 0.25em;color: #696969;}#sk-container-id-1 label.sk-toggleable__label-arrow:hover:before {color: black;}#sk-container-id-1 div.sk-estimator:hover label.sk-toggleable__label-arrow:before {color: black;}#sk-container-id-1 div.sk-toggleable__content {max-height: 0;max-width: 0;overflow: hidden;text-align: left;background-color: #f0f8ff;}#sk-container-id-1 div.sk-toggleable__content pre {margin: 0.2em;color: black;border-radius: 0.25em;background-color: #f0f8ff;}#sk-container-id-1 input.sk-toggleable__control:checked~div.sk-toggleable__content {max-height: 200px;max-width: 100%;overflow: auto;}#sk-container-id-1 input.sk-toggleable__control:checked~label.sk-toggleable__label-arrow:before {content: \"▾\";}#sk-container-id-1 div.sk-estimator input.sk-toggleable__control:checked~label.sk-toggleable__label {background-color: #d4ebff;}#sk-container-id-1 div.sk-label input.sk-toggleable__control:checked~label.sk-toggleable__label {background-color: #d4ebff;}#sk-container-id-1 input.sk-hidden--visually {border: 0;clip: rect(1px 1px 1px 1px);clip: rect(1px, 1px, 1px, 1px);height: 1px;margin: -1px;overflow: hidden;padding: 0;position: absolute;width: 1px;}#sk-container-id-1 div.sk-estimator {font-family: monospace;background-color: #f0f8ff;border: 1px dotted black;border-radius: 0.25em;box-sizing: border-box;margin-bottom: 0.5em;}#sk-container-id-1 div.sk-estimator:hover {background-color: #d4ebff;}#sk-container-id-1 div.sk-parallel-item::after {content: \"\";width: 100%;border-bottom: 1px solid gray;flex-grow: 1;}#sk-container-id-1 div.sk-label:hover label.sk-toggleable__label {background-color: #d4ebff;}#sk-container-id-1 div.sk-serial::before {content: \"\";position: absolute;border-left: 1px solid gray;box-sizing: border-box;top: 0;bottom: 0;left: 50%;z-index: 0;}#sk-container-id-1 div.sk-serial {display: flex;flex-direction: column;align-items: center;background-color: white;padding-right: 0.2em;padding-left: 0.2em;position: relative;}#sk-container-id-1 div.sk-item {position: relative;z-index: 1;}#sk-container-id-1 div.sk-parallel {display: flex;align-items: stretch;justify-content: center;background-color: white;position: relative;}#sk-container-id-1 div.sk-item::before, #sk-container-id-1 div.sk-parallel-item::before {content: \"\";position: absolute;border-left: 1px solid gray;box-sizing: border-box;top: 0;bottom: 0;left: 50%;z-index: -1;}#sk-container-id-1 div.sk-parallel-item {display: flex;flex-direction: column;z-index: 1;position: relative;background-color: white;}#sk-container-id-1 div.sk-parallel-item:first-child::after {align-self: flex-end;width: 50%;}#sk-container-id-1 div.sk-parallel-item:last-child::after {align-self: flex-start;width: 50%;}#sk-container-id-1 div.sk-parallel-item:only-child::after {width: 0;}#sk-container-id-1 div.sk-dashed-wrapped {border: 1px dashed gray;margin: 0 0.4em 0.5em 0.4em;box-sizing: border-box;padding-bottom: 0.4em;background-color: white;}#sk-container-id-1 div.sk-label label {font-family: monospace;font-weight: bold;display: inline-block;line-height: 1.2em;}#sk-container-id-1 div.sk-label-container {text-align: center;}#sk-container-id-1 div.sk-container {/* jupyter's `normalize.less` sets `[hidden] { display: none; }` but bootstrap.min.css set `[hidden] { display: none !important; }` so we also need the `!important` here to be able to override the default hidden behavior on the sphinx rendered scikit-learn.org. See: https://github.com/scikit-learn/scikit-learn/issues/21755 */display: inline-block !important;position: relative;}#sk-container-id-1 div.sk-text-repr-fallback {display: none;}</style><div id=\"sk-container-id-1\" class=\"sk-top-container\"><div class=\"sk-text-repr-fallback\"><pre>RandomForestClassifier()</pre><b>In a Jupyter environment, please rerun this cell to show the HTML representation or trust the notebook. <br />On GitHub, the HTML representation is unable to render, please try loading this page with nbviewer.org.</b></div><div class=\"sk-container\" hidden><div class=\"sk-item\"><div class=\"sk-estimator sk-toggleable\"><input class=\"sk-toggleable__control sk-hidden--visually\" id=\"sk-estimator-id-1\" type=\"checkbox\" checked><label for=\"sk-estimator-id-1\" class=\"sk-toggleable__label sk-toggleable__label-arrow\">RandomForestClassifier</label><div class=\"sk-toggleable__content\"><pre>RandomForestClassifier()</pre></div></div></div></div></div>"
      ],
      "text/plain": [
       "RandomForestClassifier()"
      ]
     },
     "execution_count": 47,
     "metadata": {},
     "output_type": "execute_result"
    }
   ],
   "source": [
    "rf1 = RandomForestClassifier()\n",
    "rf1.fit(X_train1, y_train1)"
   ]
  },
  {
   "cell_type": "code",
   "execution_count": 48,
   "id": "9374cf77",
   "metadata": {},
   "outputs": [],
   "source": [
    "y_pred1 = rf1.predict(X_test1)"
   ]
  },
  {
   "cell_type": "code",
   "execution_count": 49,
   "id": "ccd1ece3",
   "metadata": {},
   "outputs": [
    {
     "name": "stdout",
     "output_type": "stream",
     "text": [
      "Accuracy: 0.8430280528052805\n",
      "Precision: 0.9948565663696338\n",
      "Recall: 0.9973700495049505\n"
     ]
    }
   ],
   "source": [
    "accuracy = metrics.accuracy_score(y_test2, y_pred2)\n",
    "print(\"Accuracy:\", accuracy)\n",
    "\n",
    "#Precision: he fraction of relevant instances among the retrieved instances?\n",
    "print(\"Precision:\",metrics.precision_score(y_test1, y_pred1, average='weighted', zero_division=0))\n",
    "\n",
    "#Recall: the fraction of relevant instances that were retrieved?\n",
    "print(\"Recall:\",metrics.recall_score(y_test1, y_pred1, average='weighted', zero_division=0))"
   ]
  },
  {
   "cell_type": "code",
   "execution_count": 50,
   "id": "67c27aa8-f2b3-4fd1-9b5c-48a1a088adfe",
   "metadata": {},
   "outputs": [],
   "source": [
    "import pickle\n",
    "with open(\"CBT_RF_TD.pkl\", \"wb\") as f:\n",
    "    pickle.dump(rf1, f)"
   ]
  },
  {
   "cell_type": "markdown",
   "id": "7f2761fd",
   "metadata": {},
   "source": [
    "### For Tomorrow"
   ]
  },
  {
   "cell_type": "code",
   "execution_count": 51,
   "id": "0cdb3e02",
   "metadata": {},
   "outputs": [
    {
     "data": {
      "text/html": [
       "<style>#sk-container-id-2 {color: black;}#sk-container-id-2 pre{padding: 0;}#sk-container-id-2 div.sk-toggleable {background-color: white;}#sk-container-id-2 label.sk-toggleable__label {cursor: pointer;display: block;width: 100%;margin-bottom: 0;padding: 0.3em;box-sizing: border-box;text-align: center;}#sk-container-id-2 label.sk-toggleable__label-arrow:before {content: \"▸\";float: left;margin-right: 0.25em;color: #696969;}#sk-container-id-2 label.sk-toggleable__label-arrow:hover:before {color: black;}#sk-container-id-2 div.sk-estimator:hover label.sk-toggleable__label-arrow:before {color: black;}#sk-container-id-2 div.sk-toggleable__content {max-height: 0;max-width: 0;overflow: hidden;text-align: left;background-color: #f0f8ff;}#sk-container-id-2 div.sk-toggleable__content pre {margin: 0.2em;color: black;border-radius: 0.25em;background-color: #f0f8ff;}#sk-container-id-2 input.sk-toggleable__control:checked~div.sk-toggleable__content {max-height: 200px;max-width: 100%;overflow: auto;}#sk-container-id-2 input.sk-toggleable__control:checked~label.sk-toggleable__label-arrow:before {content: \"▾\";}#sk-container-id-2 div.sk-estimator input.sk-toggleable__control:checked~label.sk-toggleable__label {background-color: #d4ebff;}#sk-container-id-2 div.sk-label input.sk-toggleable__control:checked~label.sk-toggleable__label {background-color: #d4ebff;}#sk-container-id-2 input.sk-hidden--visually {border: 0;clip: rect(1px 1px 1px 1px);clip: rect(1px, 1px, 1px, 1px);height: 1px;margin: -1px;overflow: hidden;padding: 0;position: absolute;width: 1px;}#sk-container-id-2 div.sk-estimator {font-family: monospace;background-color: #f0f8ff;border: 1px dotted black;border-radius: 0.25em;box-sizing: border-box;margin-bottom: 0.5em;}#sk-container-id-2 div.sk-estimator:hover {background-color: #d4ebff;}#sk-container-id-2 div.sk-parallel-item::after {content: \"\";width: 100%;border-bottom: 1px solid gray;flex-grow: 1;}#sk-container-id-2 div.sk-label:hover label.sk-toggleable__label {background-color: #d4ebff;}#sk-container-id-2 div.sk-serial::before {content: \"\";position: absolute;border-left: 1px solid gray;box-sizing: border-box;top: 0;bottom: 0;left: 50%;z-index: 0;}#sk-container-id-2 div.sk-serial {display: flex;flex-direction: column;align-items: center;background-color: white;padding-right: 0.2em;padding-left: 0.2em;position: relative;}#sk-container-id-2 div.sk-item {position: relative;z-index: 1;}#sk-container-id-2 div.sk-parallel {display: flex;align-items: stretch;justify-content: center;background-color: white;position: relative;}#sk-container-id-2 div.sk-item::before, #sk-container-id-2 div.sk-parallel-item::before {content: \"\";position: absolute;border-left: 1px solid gray;box-sizing: border-box;top: 0;bottom: 0;left: 50%;z-index: -1;}#sk-container-id-2 div.sk-parallel-item {display: flex;flex-direction: column;z-index: 1;position: relative;background-color: white;}#sk-container-id-2 div.sk-parallel-item:first-child::after {align-self: flex-end;width: 50%;}#sk-container-id-2 div.sk-parallel-item:last-child::after {align-self: flex-start;width: 50%;}#sk-container-id-2 div.sk-parallel-item:only-child::after {width: 0;}#sk-container-id-2 div.sk-dashed-wrapped {border: 1px dashed gray;margin: 0 0.4em 0.5em 0.4em;box-sizing: border-box;padding-bottom: 0.4em;background-color: white;}#sk-container-id-2 div.sk-label label {font-family: monospace;font-weight: bold;display: inline-block;line-height: 1.2em;}#sk-container-id-2 div.sk-label-container {text-align: center;}#sk-container-id-2 div.sk-container {/* jupyter's `normalize.less` sets `[hidden] { display: none; }` but bootstrap.min.css set `[hidden] { display: none !important; }` so we also need the `!important` here to be able to override the default hidden behavior on the sphinx rendered scikit-learn.org. See: https://github.com/scikit-learn/scikit-learn/issues/21755 */display: inline-block !important;position: relative;}#sk-container-id-2 div.sk-text-repr-fallback {display: none;}</style><div id=\"sk-container-id-2\" class=\"sk-top-container\"><div class=\"sk-text-repr-fallback\"><pre>RandomForestClassifier()</pre><b>In a Jupyter environment, please rerun this cell to show the HTML representation or trust the notebook. <br />On GitHub, the HTML representation is unable to render, please try loading this page with nbviewer.org.</b></div><div class=\"sk-container\" hidden><div class=\"sk-item\"><div class=\"sk-estimator sk-toggleable\"><input class=\"sk-toggleable__control sk-hidden--visually\" id=\"sk-estimator-id-2\" type=\"checkbox\" checked><label for=\"sk-estimator-id-2\" class=\"sk-toggleable__label sk-toggleable__label-arrow\">RandomForestClassifier</label><div class=\"sk-toggleable__content\"><pre>RandomForestClassifier()</pre></div></div></div></div></div>"
      ],
      "text/plain": [
       "RandomForestClassifier()"
      ]
     },
     "execution_count": 51,
     "metadata": {},
     "output_type": "execute_result"
    }
   ],
   "source": [
    "rf2 = RandomForestClassifier()\n",
    "rf2.fit(X_train2, y_train2)"
   ]
  },
  {
   "cell_type": "code",
   "execution_count": 52,
   "id": "5a509342",
   "metadata": {},
   "outputs": [],
   "source": [
    "y_pred2 = rf2.predict(X_test2)"
   ]
  },
  {
   "cell_type": "code",
   "execution_count": 53,
   "id": "642c4527",
   "metadata": {},
   "outputs": [
    {
     "name": "stdout",
     "output_type": "stream",
     "text": [
      "Accuracy: 0.8526712046204621\n",
      "Precision: 0.8400415784355932\n",
      "Recall: 0.8526712046204621\n"
     ]
    }
   ],
   "source": [
    "accuracy = metrics.accuracy_score(y_test2, y_pred2)\n",
    "print(\"Accuracy:\", accuracy)\n",
    "\n",
    "#Precision: he fraction of relevant instances among the retrieved instances?\n",
    "print(\"Precision:\",metrics.precision_score(y_test2, y_pred2, average='weighted', zero_division=0))\n",
    "\n",
    "#Recall: the fraction of relevant instances that were retrieved?\n",
    "print(\"Recall:\",metrics.recall_score(y_test2, y_pred2, average='weighted', zero_division=0))"
   ]
  },
  {
   "cell_type": "code",
   "execution_count": 54,
   "id": "9051c8eb-b8e2-408c-b418-a45d12c7d414",
   "metadata": {},
   "outputs": [],
   "source": [
    "import pickle\n",
    "with open(\"CBT_RF_TM.pkl\", \"wb\") as f:\n",
    "    pickle.dump(rf2, f)"
   ]
  },
  {
   "cell_type": "markdown",
   "id": "b19e8667-b023-404f-9355-e4195151b9cd",
   "metadata": {},
   "source": [
    "## Model 3 : Logistic Regression"
   ]
  },
  {
   "cell_type": "code",
   "execution_count": 55,
   "id": "25bf6f16-2053-4030-812d-2c33667ae97c",
   "metadata": {},
   "outputs": [],
   "source": [
    "from sklearn.linear_model import LogisticRegression"
   ]
  },
  {
   "cell_type": "markdown",
   "id": "3487c623-5d30-494a-87b7-7002f9570a6a",
   "metadata": {},
   "source": [
    "##### For Today"
   ]
  },
  {
   "cell_type": "code",
   "execution_count": 56,
   "id": "94b7d0f7-91bc-4539-8f3f-14ce7d16f56e",
   "metadata": {},
   "outputs": [
    {
     "data": {
      "text/html": [
       "<style>#sk-container-id-3 {color: black;}#sk-container-id-3 pre{padding: 0;}#sk-container-id-3 div.sk-toggleable {background-color: white;}#sk-container-id-3 label.sk-toggleable__label {cursor: pointer;display: block;width: 100%;margin-bottom: 0;padding: 0.3em;box-sizing: border-box;text-align: center;}#sk-container-id-3 label.sk-toggleable__label-arrow:before {content: \"▸\";float: left;margin-right: 0.25em;color: #696969;}#sk-container-id-3 label.sk-toggleable__label-arrow:hover:before {color: black;}#sk-container-id-3 div.sk-estimator:hover label.sk-toggleable__label-arrow:before {color: black;}#sk-container-id-3 div.sk-toggleable__content {max-height: 0;max-width: 0;overflow: hidden;text-align: left;background-color: #f0f8ff;}#sk-container-id-3 div.sk-toggleable__content pre {margin: 0.2em;color: black;border-radius: 0.25em;background-color: #f0f8ff;}#sk-container-id-3 input.sk-toggleable__control:checked~div.sk-toggleable__content {max-height: 200px;max-width: 100%;overflow: auto;}#sk-container-id-3 input.sk-toggleable__control:checked~label.sk-toggleable__label-arrow:before {content: \"▾\";}#sk-container-id-3 div.sk-estimator input.sk-toggleable__control:checked~label.sk-toggleable__label {background-color: #d4ebff;}#sk-container-id-3 div.sk-label input.sk-toggleable__control:checked~label.sk-toggleable__label {background-color: #d4ebff;}#sk-container-id-3 input.sk-hidden--visually {border: 0;clip: rect(1px 1px 1px 1px);clip: rect(1px, 1px, 1px, 1px);height: 1px;margin: -1px;overflow: hidden;padding: 0;position: absolute;width: 1px;}#sk-container-id-3 div.sk-estimator {font-family: monospace;background-color: #f0f8ff;border: 1px dotted black;border-radius: 0.25em;box-sizing: border-box;margin-bottom: 0.5em;}#sk-container-id-3 div.sk-estimator:hover {background-color: #d4ebff;}#sk-container-id-3 div.sk-parallel-item::after {content: \"\";width: 100%;border-bottom: 1px solid gray;flex-grow: 1;}#sk-container-id-3 div.sk-label:hover label.sk-toggleable__label {background-color: #d4ebff;}#sk-container-id-3 div.sk-serial::before {content: \"\";position: absolute;border-left: 1px solid gray;box-sizing: border-box;top: 0;bottom: 0;left: 50%;z-index: 0;}#sk-container-id-3 div.sk-serial {display: flex;flex-direction: column;align-items: center;background-color: white;padding-right: 0.2em;padding-left: 0.2em;position: relative;}#sk-container-id-3 div.sk-item {position: relative;z-index: 1;}#sk-container-id-3 div.sk-parallel {display: flex;align-items: stretch;justify-content: center;background-color: white;position: relative;}#sk-container-id-3 div.sk-item::before, #sk-container-id-3 div.sk-parallel-item::before {content: \"\";position: absolute;border-left: 1px solid gray;box-sizing: border-box;top: 0;bottom: 0;left: 50%;z-index: -1;}#sk-container-id-3 div.sk-parallel-item {display: flex;flex-direction: column;z-index: 1;position: relative;background-color: white;}#sk-container-id-3 div.sk-parallel-item:first-child::after {align-self: flex-end;width: 50%;}#sk-container-id-3 div.sk-parallel-item:last-child::after {align-self: flex-start;width: 50%;}#sk-container-id-3 div.sk-parallel-item:only-child::after {width: 0;}#sk-container-id-3 div.sk-dashed-wrapped {border: 1px dashed gray;margin: 0 0.4em 0.5em 0.4em;box-sizing: border-box;padding-bottom: 0.4em;background-color: white;}#sk-container-id-3 div.sk-label label {font-family: monospace;font-weight: bold;display: inline-block;line-height: 1.2em;}#sk-container-id-3 div.sk-label-container {text-align: center;}#sk-container-id-3 div.sk-container {/* jupyter's `normalize.less` sets `[hidden] { display: none; }` but bootstrap.min.css set `[hidden] { display: none !important; }` so we also need the `!important` here to be able to override the default hidden behavior on the sphinx rendered scikit-learn.org. See: https://github.com/scikit-learn/scikit-learn/issues/21755 */display: inline-block !important;position: relative;}#sk-container-id-3 div.sk-text-repr-fallback {display: none;}</style><div id=\"sk-container-id-3\" class=\"sk-top-container\"><div class=\"sk-text-repr-fallback\"><pre>LogisticRegression(solver=&#x27;liblinear&#x27;)</pre><b>In a Jupyter environment, please rerun this cell to show the HTML representation or trust the notebook. <br />On GitHub, the HTML representation is unable to render, please try loading this page with nbviewer.org.</b></div><div class=\"sk-container\" hidden><div class=\"sk-item\"><div class=\"sk-estimator sk-toggleable\"><input class=\"sk-toggleable__control sk-hidden--visually\" id=\"sk-estimator-id-3\" type=\"checkbox\" checked><label for=\"sk-estimator-id-3\" class=\"sk-toggleable__label sk-toggleable__label-arrow\">LogisticRegression</label><div class=\"sk-toggleable__content\"><pre>LogisticRegression(solver=&#x27;liblinear&#x27;)</pre></div></div></div></div></div>"
      ],
      "text/plain": [
       "LogisticRegression(solver='liblinear')"
      ]
     },
     "execution_count": 56,
     "metadata": {},
     "output_type": "execute_result"
    }
   ],
   "source": [
    "# Logistic Regression model for the first set of data\n",
    "logreg1 = LogisticRegression(solver='liblinear')\n",
    "logreg1.fit(X_train1, y_train1)"
   ]
  },
  {
   "cell_type": "code",
   "execution_count": 57,
   "id": "e289cccb-9884-41a3-b7a8-f9a2ae551074",
   "metadata": {},
   "outputs": [],
   "source": [
    "y_pred1 = logreg1.predict(X_test1)"
   ]
  },
  {
   "cell_type": "code",
   "execution_count": 58,
   "id": "0efe4970-6384-4c16-9122-417ef08f1cdb",
   "metadata": {},
   "outputs": [
    {
     "name": "stdout",
     "output_type": "stream",
     "text": [
      "Accuracy for Model 1:  0.9973700495049505\n",
      "Precision: 0.9948051191477009\n",
      "Recall: 0.9973700495049505\n"
     ]
    }
   ],
   "source": [
    "# Finding Accuracy\n",
    "print(\"Accuracy for Model 1: \", metrics.accuracy_score(y_test1, y_pred1))\n",
    "\n",
    "#Precision: he fraction of relevant instances among the retrieved instances?\n",
    "print(\"Precision:\",metrics.precision_score(y_test1, y_pred1, average='weighted', zero_division=0))\n",
    "\n",
    "#Recall: the fraction of relevant instances that were retrieved?\n",
    "print(\"Recall:\",metrics.recall_score(y_test1, y_pred1, average='weighted', zero_division=0))"
   ]
  },
  {
   "cell_type": "code",
   "execution_count": 61,
   "id": "67a93cd0-08b5-43db-b13d-a4caa9abb255",
   "metadata": {},
   "outputs": [],
   "source": [
    "import pickle\n",
    "with open(\"CBT_LR_TD.pkl\", \"wb\") as f:\n",
    "    pickle.dump(logreg1, f)"
   ]
  },
  {
   "cell_type": "markdown",
   "id": "ea29940f-bc80-4036-af3f-322bb6067fe9",
   "metadata": {},
   "source": [
    "##### For Tomorrow"
   ]
  },
  {
   "cell_type": "code",
   "execution_count": 62,
   "id": "1be7cc17-e3aa-4b50-b684-742d9a1487ec",
   "metadata": {},
   "outputs": [
    {
     "data": {
      "text/html": [
       "<style>#sk-container-id-5 {color: black;}#sk-container-id-5 pre{padding: 0;}#sk-container-id-5 div.sk-toggleable {background-color: white;}#sk-container-id-5 label.sk-toggleable__label {cursor: pointer;display: block;width: 100%;margin-bottom: 0;padding: 0.3em;box-sizing: border-box;text-align: center;}#sk-container-id-5 label.sk-toggleable__label-arrow:before {content: \"▸\";float: left;margin-right: 0.25em;color: #696969;}#sk-container-id-5 label.sk-toggleable__label-arrow:hover:before {color: black;}#sk-container-id-5 div.sk-estimator:hover label.sk-toggleable__label-arrow:before {color: black;}#sk-container-id-5 div.sk-toggleable__content {max-height: 0;max-width: 0;overflow: hidden;text-align: left;background-color: #f0f8ff;}#sk-container-id-5 div.sk-toggleable__content pre {margin: 0.2em;color: black;border-radius: 0.25em;background-color: #f0f8ff;}#sk-container-id-5 input.sk-toggleable__control:checked~div.sk-toggleable__content {max-height: 200px;max-width: 100%;overflow: auto;}#sk-container-id-5 input.sk-toggleable__control:checked~label.sk-toggleable__label-arrow:before {content: \"▾\";}#sk-container-id-5 div.sk-estimator input.sk-toggleable__control:checked~label.sk-toggleable__label {background-color: #d4ebff;}#sk-container-id-5 div.sk-label input.sk-toggleable__control:checked~label.sk-toggleable__label {background-color: #d4ebff;}#sk-container-id-5 input.sk-hidden--visually {border: 0;clip: rect(1px 1px 1px 1px);clip: rect(1px, 1px, 1px, 1px);height: 1px;margin: -1px;overflow: hidden;padding: 0;position: absolute;width: 1px;}#sk-container-id-5 div.sk-estimator {font-family: monospace;background-color: #f0f8ff;border: 1px dotted black;border-radius: 0.25em;box-sizing: border-box;margin-bottom: 0.5em;}#sk-container-id-5 div.sk-estimator:hover {background-color: #d4ebff;}#sk-container-id-5 div.sk-parallel-item::after {content: \"\";width: 100%;border-bottom: 1px solid gray;flex-grow: 1;}#sk-container-id-5 div.sk-label:hover label.sk-toggleable__label {background-color: #d4ebff;}#sk-container-id-5 div.sk-serial::before {content: \"\";position: absolute;border-left: 1px solid gray;box-sizing: border-box;top: 0;bottom: 0;left: 50%;z-index: 0;}#sk-container-id-5 div.sk-serial {display: flex;flex-direction: column;align-items: center;background-color: white;padding-right: 0.2em;padding-left: 0.2em;position: relative;}#sk-container-id-5 div.sk-item {position: relative;z-index: 1;}#sk-container-id-5 div.sk-parallel {display: flex;align-items: stretch;justify-content: center;background-color: white;position: relative;}#sk-container-id-5 div.sk-item::before, #sk-container-id-5 div.sk-parallel-item::before {content: \"\";position: absolute;border-left: 1px solid gray;box-sizing: border-box;top: 0;bottom: 0;left: 50%;z-index: -1;}#sk-container-id-5 div.sk-parallel-item {display: flex;flex-direction: column;z-index: 1;position: relative;background-color: white;}#sk-container-id-5 div.sk-parallel-item:first-child::after {align-self: flex-end;width: 50%;}#sk-container-id-5 div.sk-parallel-item:last-child::after {align-self: flex-start;width: 50%;}#sk-container-id-5 div.sk-parallel-item:only-child::after {width: 0;}#sk-container-id-5 div.sk-dashed-wrapped {border: 1px dashed gray;margin: 0 0.4em 0.5em 0.4em;box-sizing: border-box;padding-bottom: 0.4em;background-color: white;}#sk-container-id-5 div.sk-label label {font-family: monospace;font-weight: bold;display: inline-block;line-height: 1.2em;}#sk-container-id-5 div.sk-label-container {text-align: center;}#sk-container-id-5 div.sk-container {/* jupyter's `normalize.less` sets `[hidden] { display: none; }` but bootstrap.min.css set `[hidden] { display: none !important; }` so we also need the `!important` here to be able to override the default hidden behavior on the sphinx rendered scikit-learn.org. See: https://github.com/scikit-learn/scikit-learn/issues/21755 */display: inline-block !important;position: relative;}#sk-container-id-5 div.sk-text-repr-fallback {display: none;}</style><div id=\"sk-container-id-5\" class=\"sk-top-container\"><div class=\"sk-text-repr-fallback\"><pre>LogisticRegression(solver=&#x27;liblinear&#x27;)</pre><b>In a Jupyter environment, please rerun this cell to show the HTML representation or trust the notebook. <br />On GitHub, the HTML representation is unable to render, please try loading this page with nbviewer.org.</b></div><div class=\"sk-container\" hidden><div class=\"sk-item\"><div class=\"sk-estimator sk-toggleable\"><input class=\"sk-toggleable__control sk-hidden--visually\" id=\"sk-estimator-id-5\" type=\"checkbox\" checked><label for=\"sk-estimator-id-5\" class=\"sk-toggleable__label sk-toggleable__label-arrow\">LogisticRegression</label><div class=\"sk-toggleable__content\"><pre>LogisticRegression(solver=&#x27;liblinear&#x27;)</pre></div></div></div></div></div>"
      ],
      "text/plain": [
       "LogisticRegression(solver='liblinear')"
      ]
     },
     "execution_count": 62,
     "metadata": {},
     "output_type": "execute_result"
    }
   ],
   "source": [
    "# Logistic Regression model for the second set of data\n",
    "logreg2 = LogisticRegression(solver='liblinear')\n",
    "logreg2.fit(X_train2, y_train2)"
   ]
  },
  {
   "cell_type": "code",
   "execution_count": 63,
   "id": "c75b81e4-6820-4426-8ca8-d321e4b1f0ab",
   "metadata": {},
   "outputs": [],
   "source": [
    "y_pred2 = logreg2.predict(X_test2)"
   ]
  },
  {
   "cell_type": "code",
   "execution_count": 64,
   "id": "9f85a674-8951-4d09-9c53-38e6b37b7809",
   "metadata": {},
   "outputs": [
    {
     "name": "stdout",
     "output_type": "stream",
     "text": [
      "Accuracy for Model 2:  0.8435952970297029\n",
      "Precision for Model 2: 0.8296969298992828\n",
      "Recall for Model 2: 0.8435952970297029\n"
     ]
    }
   ],
   "source": [
    "# Finding Accuracy\n",
    "print(\"Accuracy for Model 2: \", metrics.accuracy_score(y_test2, y_pred2))\n",
    "# Precision\n",
    "print(\"Precision for Model 2:\", metrics.precision_score(y_test2, y_pred2, average='weighted', zero_division=0))\n",
    "# Recall\n",
    "print(\"Recall for Model 2:\", metrics.recall_score(y_test2, y_pred2, average='weighted', zero_division=0))"
   ]
  },
  {
   "cell_type": "code",
   "execution_count": 65,
   "id": "3d5e7acc-2c1a-48b3-946d-bae2418c0f59",
   "metadata": {},
   "outputs": [],
   "source": [
    "import pickle\n",
    "with open(\"CBT_LR_TM.pkl\", \"wb\") as f:\n",
    "    pickle.dump(logreg2, f)"
   ]
  },
  {
   "cell_type": "markdown",
   "id": "44b92399-8b13-4de9-b311-dce54e63e540",
   "metadata": {},
   "source": [
    "#### Model 4 : Naive Bayes"
   ]
  },
  {
   "cell_type": "code",
   "execution_count": 66,
   "id": "e5f43ed5-b277-4e77-b704-359c2eb7d27b",
   "metadata": {},
   "outputs": [],
   "source": [
    "from sklearn.naive_bayes import GaussianNB"
   ]
  },
  {
   "cell_type": "markdown",
   "id": "d42e0e12-b119-4846-8a20-d1c6e04783ca",
   "metadata": {},
   "source": [
    "##### For Today"
   ]
  },
  {
   "cell_type": "code",
   "execution_count": 67,
   "id": "dede9dbb-aac7-4b5d-a9fa-80078f79f183",
   "metadata": {},
   "outputs": [
    {
     "data": {
      "text/html": [
       "<style>#sk-container-id-6 {color: black;}#sk-container-id-6 pre{padding: 0;}#sk-container-id-6 div.sk-toggleable {background-color: white;}#sk-container-id-6 label.sk-toggleable__label {cursor: pointer;display: block;width: 100%;margin-bottom: 0;padding: 0.3em;box-sizing: border-box;text-align: center;}#sk-container-id-6 label.sk-toggleable__label-arrow:before {content: \"▸\";float: left;margin-right: 0.25em;color: #696969;}#sk-container-id-6 label.sk-toggleable__label-arrow:hover:before {color: black;}#sk-container-id-6 div.sk-estimator:hover label.sk-toggleable__label-arrow:before {color: black;}#sk-container-id-6 div.sk-toggleable__content {max-height: 0;max-width: 0;overflow: hidden;text-align: left;background-color: #f0f8ff;}#sk-container-id-6 div.sk-toggleable__content pre {margin: 0.2em;color: black;border-radius: 0.25em;background-color: #f0f8ff;}#sk-container-id-6 input.sk-toggleable__control:checked~div.sk-toggleable__content {max-height: 200px;max-width: 100%;overflow: auto;}#sk-container-id-6 input.sk-toggleable__control:checked~label.sk-toggleable__label-arrow:before {content: \"▾\";}#sk-container-id-6 div.sk-estimator input.sk-toggleable__control:checked~label.sk-toggleable__label {background-color: #d4ebff;}#sk-container-id-6 div.sk-label input.sk-toggleable__control:checked~label.sk-toggleable__label {background-color: #d4ebff;}#sk-container-id-6 input.sk-hidden--visually {border: 0;clip: rect(1px 1px 1px 1px);clip: rect(1px, 1px, 1px, 1px);height: 1px;margin: -1px;overflow: hidden;padding: 0;position: absolute;width: 1px;}#sk-container-id-6 div.sk-estimator {font-family: monospace;background-color: #f0f8ff;border: 1px dotted black;border-radius: 0.25em;box-sizing: border-box;margin-bottom: 0.5em;}#sk-container-id-6 div.sk-estimator:hover {background-color: #d4ebff;}#sk-container-id-6 div.sk-parallel-item::after {content: \"\";width: 100%;border-bottom: 1px solid gray;flex-grow: 1;}#sk-container-id-6 div.sk-label:hover label.sk-toggleable__label {background-color: #d4ebff;}#sk-container-id-6 div.sk-serial::before {content: \"\";position: absolute;border-left: 1px solid gray;box-sizing: border-box;top: 0;bottom: 0;left: 50%;z-index: 0;}#sk-container-id-6 div.sk-serial {display: flex;flex-direction: column;align-items: center;background-color: white;padding-right: 0.2em;padding-left: 0.2em;position: relative;}#sk-container-id-6 div.sk-item {position: relative;z-index: 1;}#sk-container-id-6 div.sk-parallel {display: flex;align-items: stretch;justify-content: center;background-color: white;position: relative;}#sk-container-id-6 div.sk-item::before, #sk-container-id-6 div.sk-parallel-item::before {content: \"\";position: absolute;border-left: 1px solid gray;box-sizing: border-box;top: 0;bottom: 0;left: 50%;z-index: -1;}#sk-container-id-6 div.sk-parallel-item {display: flex;flex-direction: column;z-index: 1;position: relative;background-color: white;}#sk-container-id-6 div.sk-parallel-item:first-child::after {align-self: flex-end;width: 50%;}#sk-container-id-6 div.sk-parallel-item:last-child::after {align-self: flex-start;width: 50%;}#sk-container-id-6 div.sk-parallel-item:only-child::after {width: 0;}#sk-container-id-6 div.sk-dashed-wrapped {border: 1px dashed gray;margin: 0 0.4em 0.5em 0.4em;box-sizing: border-box;padding-bottom: 0.4em;background-color: white;}#sk-container-id-6 div.sk-label label {font-family: monospace;font-weight: bold;display: inline-block;line-height: 1.2em;}#sk-container-id-6 div.sk-label-container {text-align: center;}#sk-container-id-6 div.sk-container {/* jupyter's `normalize.less` sets `[hidden] { display: none; }` but bootstrap.min.css set `[hidden] { display: none !important; }` so we also need the `!important` here to be able to override the default hidden behavior on the sphinx rendered scikit-learn.org. See: https://github.com/scikit-learn/scikit-learn/issues/21755 */display: inline-block !important;position: relative;}#sk-container-id-6 div.sk-text-repr-fallback {display: none;}</style><div id=\"sk-container-id-6\" class=\"sk-top-container\"><div class=\"sk-text-repr-fallback\"><pre>GaussianNB()</pre><b>In a Jupyter environment, please rerun this cell to show the HTML representation or trust the notebook. <br />On GitHub, the HTML representation is unable to render, please try loading this page with nbviewer.org.</b></div><div class=\"sk-container\" hidden><div class=\"sk-item\"><div class=\"sk-estimator sk-toggleable\"><input class=\"sk-toggleable__control sk-hidden--visually\" id=\"sk-estimator-id-6\" type=\"checkbox\" checked><label for=\"sk-estimator-id-6\" class=\"sk-toggleable__label sk-toggleable__label-arrow\">GaussianNB</label><div class=\"sk-toggleable__content\"><pre>GaussianNB()</pre></div></div></div></div></div>"
      ],
      "text/plain": [
       "GaussianNB()"
      ]
     },
     "execution_count": 67,
     "metadata": {},
     "output_type": "execute_result"
    }
   ],
   "source": [
    "# Naive Bayes model for the first set of data\n",
    "nb1 = GaussianNB()\n",
    "nb1.fit(X_train1, y_train1)"
   ]
  },
  {
   "cell_type": "code",
   "execution_count": 68,
   "id": "c1483408-36e5-4cf8-b4dd-0808dd3b843b",
   "metadata": {},
   "outputs": [],
   "source": [
    "y_pred1 = nb1.predict(X_test1)"
   ]
  },
  {
   "cell_type": "code",
   "execution_count": 69,
   "id": "58ff7c66-2e02-4196-96f5-303f6d4e73ce",
   "metadata": {},
   "outputs": [
    {
     "name": "stdout",
     "output_type": "stream",
     "text": [
      "Accuracy for Model 1:  0.9436881188118812\n",
      "Precision: 0.9545336057462366\n",
      "Recall: 0.9436881188118812\n"
     ]
    }
   ],
   "source": [
    "print(\"Accuracy for Model 1: \", metrics.accuracy_score(y_test1, y_pred1))\n",
    "# Precision\n",
    "\n",
    "#Precision: he fraction of relevant instances among the retrieved instances?\n",
    "print(\"Precision:\",metrics.precision_score(y_test1, y_pred1, average='weighted', zero_division=0))\n",
    "\n",
    "#Recall: the fraction of relevant instances that were retrieved?\n",
    "print(\"Recall:\",metrics.recall_score(y_test1, y_pred1, average='weighted', zero_division=0))"
   ]
  },
  {
   "cell_type": "code",
   "execution_count": 77,
   "id": "bb011f4a-7649-45f5-90d0-1b6b54d0ba20",
   "metadata": {},
   "outputs": [],
   "source": [
    "import pickle\n",
    "with open(\"CBT_NB_TD.pkl\", \"wb\") as f:\n",
    "    pickle.dump(nb1, f)"
   ]
  },
  {
   "cell_type": "markdown",
   "id": "74552bae-6c41-4845-8820-8bc3d8e7192c",
   "metadata": {},
   "source": [
    "##### For Tomorrow"
   ]
  },
  {
   "cell_type": "code",
   "execution_count": 71,
   "id": "b4eeb87a-be38-46cb-b7a1-45c3a9fd0448",
   "metadata": {},
   "outputs": [
    {
     "data": {
      "text/html": [
       "<style>#sk-container-id-7 {color: black;}#sk-container-id-7 pre{padding: 0;}#sk-container-id-7 div.sk-toggleable {background-color: white;}#sk-container-id-7 label.sk-toggleable__label {cursor: pointer;display: block;width: 100%;margin-bottom: 0;padding: 0.3em;box-sizing: border-box;text-align: center;}#sk-container-id-7 label.sk-toggleable__label-arrow:before {content: \"▸\";float: left;margin-right: 0.25em;color: #696969;}#sk-container-id-7 label.sk-toggleable__label-arrow:hover:before {color: black;}#sk-container-id-7 div.sk-estimator:hover label.sk-toggleable__label-arrow:before {color: black;}#sk-container-id-7 div.sk-toggleable__content {max-height: 0;max-width: 0;overflow: hidden;text-align: left;background-color: #f0f8ff;}#sk-container-id-7 div.sk-toggleable__content pre {margin: 0.2em;color: black;border-radius: 0.25em;background-color: #f0f8ff;}#sk-container-id-7 input.sk-toggleable__control:checked~div.sk-toggleable__content {max-height: 200px;max-width: 100%;overflow: auto;}#sk-container-id-7 input.sk-toggleable__control:checked~label.sk-toggleable__label-arrow:before {content: \"▾\";}#sk-container-id-7 div.sk-estimator input.sk-toggleable__control:checked~label.sk-toggleable__label {background-color: #d4ebff;}#sk-container-id-7 div.sk-label input.sk-toggleable__control:checked~label.sk-toggleable__label {background-color: #d4ebff;}#sk-container-id-7 input.sk-hidden--visually {border: 0;clip: rect(1px 1px 1px 1px);clip: rect(1px, 1px, 1px, 1px);height: 1px;margin: -1px;overflow: hidden;padding: 0;position: absolute;width: 1px;}#sk-container-id-7 div.sk-estimator {font-family: monospace;background-color: #f0f8ff;border: 1px dotted black;border-radius: 0.25em;box-sizing: border-box;margin-bottom: 0.5em;}#sk-container-id-7 div.sk-estimator:hover {background-color: #d4ebff;}#sk-container-id-7 div.sk-parallel-item::after {content: \"\";width: 100%;border-bottom: 1px solid gray;flex-grow: 1;}#sk-container-id-7 div.sk-label:hover label.sk-toggleable__label {background-color: #d4ebff;}#sk-container-id-7 div.sk-serial::before {content: \"\";position: absolute;border-left: 1px solid gray;box-sizing: border-box;top: 0;bottom: 0;left: 50%;z-index: 0;}#sk-container-id-7 div.sk-serial {display: flex;flex-direction: column;align-items: center;background-color: white;padding-right: 0.2em;padding-left: 0.2em;position: relative;}#sk-container-id-7 div.sk-item {position: relative;z-index: 1;}#sk-container-id-7 div.sk-parallel {display: flex;align-items: stretch;justify-content: center;background-color: white;position: relative;}#sk-container-id-7 div.sk-item::before, #sk-container-id-7 div.sk-parallel-item::before {content: \"\";position: absolute;border-left: 1px solid gray;box-sizing: border-box;top: 0;bottom: 0;left: 50%;z-index: -1;}#sk-container-id-7 div.sk-parallel-item {display: flex;flex-direction: column;z-index: 1;position: relative;background-color: white;}#sk-container-id-7 div.sk-parallel-item:first-child::after {align-self: flex-end;width: 50%;}#sk-container-id-7 div.sk-parallel-item:last-child::after {align-self: flex-start;width: 50%;}#sk-container-id-7 div.sk-parallel-item:only-child::after {width: 0;}#sk-container-id-7 div.sk-dashed-wrapped {border: 1px dashed gray;margin: 0 0.4em 0.5em 0.4em;box-sizing: border-box;padding-bottom: 0.4em;background-color: white;}#sk-container-id-7 div.sk-label label {font-family: monospace;font-weight: bold;display: inline-block;line-height: 1.2em;}#sk-container-id-7 div.sk-label-container {text-align: center;}#sk-container-id-7 div.sk-container {/* jupyter's `normalize.less` sets `[hidden] { display: none; }` but bootstrap.min.css set `[hidden] { display: none !important; }` so we also need the `!important` here to be able to override the default hidden behavior on the sphinx rendered scikit-learn.org. See: https://github.com/scikit-learn/scikit-learn/issues/21755 */display: inline-block !important;position: relative;}#sk-container-id-7 div.sk-text-repr-fallback {display: none;}</style><div id=\"sk-container-id-7\" class=\"sk-top-container\"><div class=\"sk-text-repr-fallback\"><pre>GaussianNB()</pre><b>In a Jupyter environment, please rerun this cell to show the HTML representation or trust the notebook. <br />On GitHub, the HTML representation is unable to render, please try loading this page with nbviewer.org.</b></div><div class=\"sk-container\" hidden><div class=\"sk-item\"><div class=\"sk-estimator sk-toggleable\"><input class=\"sk-toggleable__control sk-hidden--visually\" id=\"sk-estimator-id-7\" type=\"checkbox\" checked><label for=\"sk-estimator-id-7\" class=\"sk-toggleable__label sk-toggleable__label-arrow\">GaussianNB</label><div class=\"sk-toggleable__content\"><pre>GaussianNB()</pre></div></div></div></div></div>"
      ],
      "text/plain": [
       "GaussianNB()"
      ]
     },
     "execution_count": 71,
     "metadata": {},
     "output_type": "execute_result"
    }
   ],
   "source": [
    "nb2 = GaussianNB()\n",
    "nb2.fit(X_train2, y_train2)"
   ]
  },
  {
   "cell_type": "code",
   "execution_count": 72,
   "id": "f31196df-fb51-4404-84eb-7f22f19c55f6",
   "metadata": {},
   "outputs": [],
   "source": [
    "y_pred2 = nb2.predict(X_test2)"
   ]
  },
  {
   "cell_type": "code",
   "execution_count": 73,
   "id": "09abc3f7-60f5-4b1b-99cf-f7eacf9f5352",
   "metadata": {},
   "outputs": [
    {
     "name": "stdout",
     "output_type": "stream",
     "text": [
      "Accuracy for Model 2:  0.8010519801980198\n",
      "Precision for Model 2: 0.811821391215684\n",
      "Recall for Model 2: 0.8010519801980198\n"
     ]
    }
   ],
   "source": [
    "# Finding Accuracy\n",
    "print(\"Accuracy for Model 2: \", metrics.accuracy_score(y_test2, y_pred2))\n",
    "# Precision\n",
    "print(\"Precision for Model 2:\", metrics.precision_score(y_test2, y_pred2, average='weighted', zero_division=0))\n",
    "# Recall\n",
    "print(\"Recall for Model 2:\", metrics.recall_score(y_test2, y_pred2, average='weighted', zero_division=0))"
   ]
  },
  {
   "cell_type": "code",
   "execution_count": 78,
   "id": "2fbbac3b-45ac-4f1d-9c72-809a2ca49d86",
   "metadata": {},
   "outputs": [],
   "source": [
    "import pickle\n",
    "with open(\"CBT_NB_TM.pkl\", \"wb\") as f:\n",
    "    pickle.dump(nb2, f)"
   ]
  },
  {
   "cell_type": "code",
   "execution_count": 80,
   "id": "39f4009d-ccb0-4f79-8ed2-11c938709e34",
   "metadata": {},
   "outputs": [
    {
     "data": {
      "text/plain": [
       "(45247, 11)"
      ]
     },
     "execution_count": 80,
     "metadata": {},
     "output_type": "execute_result"
    }
   ],
   "source": [
    "X_train1.shape"
   ]
  }
 ],
 "metadata": {
  "kernelspec": {
   "display_name": "Python 3 (ipykernel)",
   "language": "python",
   "name": "python3"
  },
  "language_info": {
   "codemirror_mode": {
    "name": "ipython",
    "version": 3
   },
   "file_extension": ".py",
   "mimetype": "text/x-python",
   "name": "python",
   "nbconvert_exporter": "python",
   "pygments_lexer": "ipython3",
   "version": "3.11.5"
  }
 },
 "nbformat": 4,
 "nbformat_minor": 5
}
