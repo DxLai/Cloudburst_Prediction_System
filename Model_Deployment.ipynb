{
 "cells": [
  {
   "cell_type": "code",
   "execution_count": null,
   "id": "aa3e1bf8-8fa3-4331-a770-73837eea59e8",
   "metadata": {},
   "outputs": [],
   "source": [
    "#Gradio Library shuld be installed to run the UI"
   ]
  },
  {
   "cell_type": "code",
   "execution_count": 2,
   "id": "4cbb5021-13f2-4ede-b4d5-667307ea65b2",
   "metadata": {},
   "outputs": [],
   "source": [
    "# Parameters\n",
    "# MaximumTemperature, \n",
    "# Rainfall, \n",
    "# Sunshine, \n",
    "# WindGustSpeed, \n",
    "# Humidity9am, \n",
    "# Humidity3pm, \n",
    "# Pressure9am, \n",
    "# Pressure3pm, \n",
    "# Cloud9am, \n",
    "# Cloud3pm, \n",
    "# Temperature3pm"
   ]
  },
  {
   "cell_type": "code",
   "execution_count": 1,
   "id": "250ddbe8-7a52-4da4-b1e8-87ddaced6f80",
   "metadata": {},
   "outputs": [
    {
     "name": "stderr",
     "output_type": "stream",
     "text": [
      "C:\\Users\\Home\\AppData\\Roaming\\Python\\Python311\\site-packages\\tqdm\\auto.py:21: TqdmWarning: IProgress not found. Please update jupyter and ipywidgets. See https://ipywidgets.readthedocs.io/en/stable/user_install.html\n",
      "  from .autonotebook import tqdm as notebook_tqdm\n"
     ]
    }
   ],
   "source": [
    "import gradio as gr\n",
    "mapp = {0:'No', 1:'Yes', 2:'nan' }"
   ]
  },
  {
   "cell_type": "code",
   "execution_count": 2,
   "id": "0ca989f9-6499-483c-b517-2e93f96ca85b",
   "metadata": {},
   "outputs": [],
   "source": [
    "def my_function(input1, input2, input3, input4, input5, input6, input7, input8, input9, input10, input11):\n",
    "    I1, I2, I3 = float(input1), float(input2), float(input3)\n",
    "    I4, I5, I6 = float(input4), float(input5), float(input6)\n",
    "    I7, I8, I9 = float(input7), float(input8), float(input9)\n",
    "    I10, I11 = float(input10), float(input11)\n",
    "    import numpy as np\n",
    "    A = np.array([I1,I2,I3,I4,I5,I6,I7,I8,I9,I10,I11])\n",
    "    B = A.reshape(1,11)\n",
    "    TD = 0\n",
    "    TM = 0\n",
    "    mapp = {0:'No', 1:'Yes', 2:'nan' }\n",
    "    import pickle\n",
    "    with open(\"CBT_SVM_TD.pkl\", \"rb\") as f:\n",
    "        Today = pickle.load(f)\n",
    "        TD1 = Today.predict(B)\n",
    "        TD = mapp[int(TD1)]\n",
    "        \n",
    "    with open(\"CBT_RF_TM.pkl\", \"rb\") as f:\n",
    "        Tomorrow = pickle.load(f)\n",
    "        TM1 = Tomorrow.predict(B)\n",
    "        TM = mapp[int(TM1)]\n",
    "        \n",
    "    result = f\"Today : {TD}, Tomorrow : {TM}\"\n",
    "    return result"
   ]
  },
  {
   "cell_type": "code",
   "execution_count": 3,
   "id": "d68e328c-74b7-4fc7-b432-501bf48ce702",
   "metadata": {},
   "outputs": [
    {
     "name": "stdout",
     "output_type": "stream",
     "text": [
      "Running on local URL:  http://127.0.0.1:7860\n",
      "\n",
      "Could not create share link. Please check your internet connection or our status page: https://status.gradio.app.\n"
     ]
    },
    {
     "data": {
      "text/html": [
       "<div><iframe src=\"http://127.0.0.1:7860/\" width=\"100%\" height=\"500\" allow=\"autoplay; camera; microphone; clipboard-read; clipboard-write;\" frameborder=\"0\" allowfullscreen></iframe></div>"
      ],
      "text/plain": [
       "<IPython.core.display.HTML object>"
      ]
     },
     "metadata": {},
     "output_type": "display_data"
    },
    {
     "data": {
      "text/plain": []
     },
     "execution_count": 3,
     "metadata": {},
     "output_type": "execute_result"
    },
    {
     "name": "stderr",
     "output_type": "stream",
     "text": [
      "Traceback (most recent call last):\n",
      "  File \"C:\\Users\\Home\\AppData\\Roaming\\Python\\Python311\\site-packages\\gradio\\queueing.py\", line 456, in call_prediction\n",
      "    output = await route_utils.call_process_api(\n",
      "             ^^^^^^^^^^^^^^^^^^^^^^^^^^^^^^^^^^^\n",
      "  File \"C:\\Users\\Home\\AppData\\Roaming\\Python\\Python311\\site-packages\\gradio\\route_utils.py\", line 232, in call_process_api\n",
      "    output = await app.get_blocks().process_api(\n",
      "             ^^^^^^^^^^^^^^^^^^^^^^^^^^^^^^^^^^^\n",
      "  File \"C:\\Users\\Home\\AppData\\Roaming\\Python\\Python311\\site-packages\\gradio\\blocks.py\", line 1522, in process_api\n",
      "    result = await self.call_function(\n",
      "             ^^^^^^^^^^^^^^^^^^^^^^^^^\n",
      "  File \"C:\\Users\\Home\\AppData\\Roaming\\Python\\Python311\\site-packages\\gradio\\blocks.py\", line 1144, in call_function\n",
      "    prediction = await anyio.to_thread.run_sync(\n",
      "                 ^^^^^^^^^^^^^^^^^^^^^^^^^^^^^^^\n",
      "  File \"C:\\Users\\Home\\AppData\\Roaming\\Python\\Python311\\site-packages\\anyio\\to_thread.py\", line 33, in run_sync\n",
      "    return await get_asynclib().run_sync_in_worker_thread(\n",
      "           ^^^^^^^^^^^^^^^^^^^^^^^^^^^^^^^^^^^^^^^^^^^^^^^\n",
      "  File \"C:\\Users\\Home\\AppData\\Roaming\\Python\\Python311\\site-packages\\anyio\\_backends\\_asyncio.py\", line 877, in run_sync_in_worker_thread\n",
      "    return await future\n",
      "           ^^^^^^^^^^^^\n",
      "  File \"C:\\Users\\Home\\AppData\\Roaming\\Python\\Python311\\site-packages\\anyio\\_backends\\_asyncio.py\", line 807, in run\n",
      "    result = context.run(func, *args)\n",
      "             ^^^^^^^^^^^^^^^^^^^^^^^^\n",
      "  File \"C:\\Users\\Home\\AppData\\Roaming\\Python\\Python311\\site-packages\\gradio\\utils.py\", line 674, in wrapper\n",
      "    response = f(*args, **kwargs)\n",
      "               ^^^^^^^^^^^^^^^^^^\n",
      "  File \"C:\\Users\\Home\\AppData\\Local\\Temp\\ipykernel_4220\\1836042305.py\", line 4, in my_function\n",
      "    I7, I8, I9 = float(input7), float(input8), float(input9)\n",
      "                                               ^^^^^^^^^^^^^\n",
      "ValueError: could not convert string to float: ''\n",
      "Traceback (most recent call last):\n",
      "  File \"C:\\Users\\Home\\AppData\\Roaming\\Python\\Python311\\site-packages\\gradio\\queueing.py\", line 456, in call_prediction\n",
      "    output = await route_utils.call_process_api(\n",
      "             ^^^^^^^^^^^^^^^^^^^^^^^^^^^^^^^^^^^\n",
      "  File \"C:\\Users\\Home\\AppData\\Roaming\\Python\\Python311\\site-packages\\gradio\\route_utils.py\", line 232, in call_process_api\n",
      "    output = await app.get_blocks().process_api(\n",
      "             ^^^^^^^^^^^^^^^^^^^^^^^^^^^^^^^^^^^\n",
      "  File \"C:\\Users\\Home\\AppData\\Roaming\\Python\\Python311\\site-packages\\gradio\\blocks.py\", line 1522, in process_api\n",
      "    result = await self.call_function(\n",
      "             ^^^^^^^^^^^^^^^^^^^^^^^^^\n",
      "  File \"C:\\Users\\Home\\AppData\\Roaming\\Python\\Python311\\site-packages\\gradio\\blocks.py\", line 1144, in call_function\n",
      "    prediction = await anyio.to_thread.run_sync(\n",
      "                 ^^^^^^^^^^^^^^^^^^^^^^^^^^^^^^^\n",
      "  File \"C:\\Users\\Home\\AppData\\Roaming\\Python\\Python311\\site-packages\\anyio\\to_thread.py\", line 33, in run_sync\n",
      "    return await get_asynclib().run_sync_in_worker_thread(\n",
      "           ^^^^^^^^^^^^^^^^^^^^^^^^^^^^^^^^^^^^^^^^^^^^^^^\n",
      "  File \"C:\\Users\\Home\\AppData\\Roaming\\Python\\Python311\\site-packages\\anyio\\_backends\\_asyncio.py\", line 877, in run_sync_in_worker_thread\n",
      "    return await future\n",
      "           ^^^^^^^^^^^^\n",
      "  File \"C:\\Users\\Home\\AppData\\Roaming\\Python\\Python311\\site-packages\\anyio\\_backends\\_asyncio.py\", line 807, in run\n",
      "    result = context.run(func, *args)\n",
      "             ^^^^^^^^^^^^^^^^^^^^^^^^\n",
      "  File \"C:\\Users\\Home\\AppData\\Roaming\\Python\\Python311\\site-packages\\gradio\\utils.py\", line 674, in wrapper\n",
      "    response = f(*args, **kwargs)\n",
      "               ^^^^^^^^^^^^^^^^^^\n",
      "  File \"C:\\Users\\Home\\AppData\\Local\\Temp\\ipykernel_4220\\1836042305.py\", line 4, in my_function\n",
      "    I7, I8, I9 = float(input7), float(input8), float(input9)\n",
      "                                               ^^^^^^^^^^^^^\n",
      "ValueError: could not convert string to float: ''\n",
      "\n",
      "The above exception was the direct cause of the following exception:\n",
      "\n",
      "Traceback (most recent call last):\n",
      "  File \"C:\\Users\\Home\\AppData\\Roaming\\Python\\Python311\\site-packages\\gradio\\queueing.py\", line 501, in process_events\n",
      "    response = await self.call_prediction(awake_events, batch)\n",
      "               ^^^^^^^^^^^^^^^^^^^^^^^^^^^^^^^^^^^^^^^^^^^^^^^\n",
      "  File \"C:\\Users\\Home\\AppData\\Roaming\\Python\\Python311\\site-packages\\gradio\\queueing.py\", line 465, in call_prediction\n",
      "    raise Exception(str(error) if show_error else None) from error\n",
      "Exception: None\n"
     ]
    }
   ],
   "source": [
    "iface = gr.Interface(fn=my_function, \n",
    "                     inputs=[gr.Textbox(label=\"Maximum Temperature(℃)\"), gr.Textbox(label='Rainfall(mm)'), gr.Textbox(label='Sunshine(W/sqq.m)'),gr.Textbox(label=\"Wind Gust Speed(m/s)\"), gr.Textbox(label='Humidity at 9am'), gr.Textbox(label='Humidity at 3pm'),gr.Textbox(label=\"Pressure at 9am(atm)\"), gr.Textbox(label='Pressure at 3pm(atm)'), gr.Textbox(label='Cloud at 9am(Oktas)'),gr.Textbox(label=\"Cloud at 3pm(Oktas)\"), gr.Textbox(label='Temperature at 3pm(℃)')],\n",
    "                     outputs=gr.Textbox(label='Cloudburst'))\n",
    "\n",
    "iface.launch(share = True)"
   ]
  },
  {
   "cell_type": "code",
   "execution_count": null,
   "id": "57264ce3-4254-498a-9b55-df9cafb4cc70",
   "metadata": {},
   "outputs": [],
   "source": []
  }
 ],
 "metadata": {
  "kernelspec": {
   "display_name": "Python 3 (ipykernel)",
   "language": "python",
   "name": "python3"
  },
  "language_info": {
   "codemirror_mode": {
    "name": "ipython",
    "version": 3
   },
   "file_extension": ".py",
   "mimetype": "text/x-python",
   "name": "python",
   "nbconvert_exporter": "python",
   "pygments_lexer": "ipython3",
   "version": "3.11.5"
  }
 },
 "nbformat": 4,
 "nbformat_minor": 5
}
